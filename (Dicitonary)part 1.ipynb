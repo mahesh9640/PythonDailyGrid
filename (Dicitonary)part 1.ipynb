{
 "cells": [
  {
   "cell_type": "code",
   "execution_count": null,
   "id": "bc2f6843-5301-4ac8-bcfb-bd45014caca6",
   "metadata": {},
   "outputs": [],
   "source": [
    "list1=['Ram','Raheem','Robert']\n",
    "list2=[25,30,35]"
   ]
  },
  {
   "cell_type": "code",
   "execution_count": 7,
   "id": "0e531ed1-334c-4378-990c-bb49e9b70567",
   "metadata": {},
   "outputs": [
    {
     "name": "stdout",
     "output_type": "stream",
     "text": [
      "Ram 25\n",
      "Raheem 30\n",
      "Robert 35\n"
     ]
    }
   ],
   "source": [
    "list1=['Ram','Raheem','Robert']\n",
    "list2=[25,30,35]\n",
    "for i,j in zip(list1,list2):\n",
    "    print(i,j)\n"
   ]
  },
  {
   "cell_type": "code",
   "execution_count": null,
   "id": "39e11993-1cb0-497e-9211-595340464170",
   "metadata": {},
   "outputs": [],
   "source": [
    "## for dicitnoary {key:value}"
   ]
  },
  {
   "cell_type": "code",
   "execution_count": 9,
   "id": "8990504d-24c6-4831-a809-9be17a2fff15",
   "metadata": {},
   "outputs": [
    {
     "data": {
      "text/plain": [
       "{'Ram': 25, 'Raheem': 30, 'Robert': 35}"
      ]
     },
     "execution_count": 9,
     "metadata": {},
     "output_type": "execute_result"
    }
   ],
   "source": [
    "d1={'Ram':25,'Raheem':30,'Robert':35}\n",
    "d1\n",
    "\n",
    "## In this case key is 'Ram','Rahemm','Robert'\n",
    "## And value is {25,30,35}"
   ]
  },
  {
   "cell_type": "code",
   "execution_count": 11,
   "id": "61bf3d08-d689-4ae4-b409-807f114f6512",
   "metadata": {},
   "outputs": [
    {
     "data": {
      "text/plain": [
       "{25: 'Ram', 30: 'Raheem', 35: 'Robert'}"
      ]
     },
     "execution_count": 11,
     "metadata": {},
     "output_type": "execute_result"
    }
   ],
   "source": [
    "d2={25:'Ram',30:'Raheem',35:'Robert'}\n",
    "d2\n",
    "# in this case key is [25,30,35]\n",
    "# value is=\"RAM\",\"RAHEEM\",\"ROBERT\""
   ]
  },
  {
   "cell_type": "code",
   "execution_count": 13,
   "id": "215aa3c4-90c5-4758-8401-1460435e26a5",
   "metadata": {},
   "outputs": [
    {
     "data": {
      "text/plain": [
       "{'even': [2, 4, 6], 'odd': [3, 5, 7]}"
      ]
     },
     "execution_count": 13,
     "metadata": {},
     "output_type": "execute_result"
    }
   ],
   "source": [
    "d3={'even':[2,4,6],'odd':[3,5,7]}\n",
    "d3"
   ]
  },
  {
   "cell_type": "code",
   "execution_count": 15,
   "id": "3b9e5f88-17b3-46b9-b672-4f3f9356b0cb",
   "metadata": {},
   "outputs": [
    {
     "ename": "TypeError",
     "evalue": "unhashable type: 'list'",
     "output_type": "error",
     "traceback": [
      "\u001b[1;31m---------------------------------------------------------------------------\u001b[0m",
      "\u001b[1;31mTypeError\u001b[0m                                 Traceback (most recent call last)",
      "Cell \u001b[1;32mIn[15], line 1\u001b[0m\n\u001b[1;32m----> 1\u001b[0m d4\u001b[38;5;241m=\u001b[39m{[\u001b[38;5;241m2\u001b[39m,\u001b[38;5;241m4\u001b[39m,\u001b[38;5;241m6\u001b[39m]:\u001b[38;5;124m'\u001b[39m\u001b[38;5;124meven\u001b[39m\u001b[38;5;124m'\u001b[39m,[\u001b[38;5;241m3\u001b[39m,\u001b[38;5;241m5\u001b[39m,\u001b[38;5;241m7\u001b[39m]:\u001b[38;5;124m'\u001b[39m\u001b[38;5;124modd\u001b[39m\u001b[38;5;124m'\u001b[39m}\n\u001b[0;32m      2\u001b[0m d4\n",
      "\u001b[1;31mTypeError\u001b[0m: unhashable type: 'list'"
     ]
    }
   ],
   "source": [
    "d4={[2,4,6]:'even',[3,5,7]:'odd'}\n",
    "d4\n",
    "##In dictinoary list will not work"
   ]
  },
  {
   "cell_type": "code",
   "execution_count": null,
   "id": "c6042358-9063-4e30-ad12-4315e193d1d0",
   "metadata": {},
   "outputs": [],
   "source": [
    "--->For the above list is not working."
   ]
  },
  {
   "cell_type": "code",
   "execution_count": 17,
   "id": "acfffe49-1998-4d6d-827d-23055ad2cce4",
   "metadata": {},
   "outputs": [
    {
     "data": {
      "text/plain": [
       "{(2, 4, 6): 'even', (3, 5, 7): 'odd'}"
      ]
     },
     "execution_count": 17,
     "metadata": {},
     "output_type": "execute_result"
    }
   ],
   "source": [
    "d5={(2,4,6):'even',(3,5,7):'odd'}\n",
    "d5\n",
    "## in dicitnoary tuple will work"
   ]
  },
  {
   "cell_type": "code",
   "execution_count": null,
   "id": "12422ef6-7ec1-4e67-8338-7d72484c0643",
   "metadata": {},
   "outputs": [],
   "source": [
    "--->Here \"tuple\" is working."
   ]
  },
  {
   "cell_type": "code",
   "execution_count": 19,
   "id": "e67e210a-3a0c-4f6f-b9d1-9449657c7284",
   "metadata": {},
   "outputs": [
    {
     "data": {
      "text/plain": [
       "{'A': 1, 'B': 2}"
      ]
     },
     "execution_count": 19,
     "metadata": {},
     "output_type": "execute_result"
    }
   ],
   "source": [
    "d1={'A':1,'B':2,'A':1}\n",
    "d1                     ## in this dictionary duplicates will not work."
   ]
  },
  {
   "cell_type": "code",
   "execution_count": 21,
   "id": "fb0f8618-abc2-4b0d-a27d-debf0260559c",
   "metadata": {},
   "outputs": [
    {
     "data": {
      "text/plain": [
       "{'A': 3, 'B': 2}"
      ]
     },
     "execution_count": 21,
     "metadata": {},
     "output_type": "execute_result"
    }
   ],
   "source": [
    "d2={'A':1,'B':2,'A':3}\n",
    "d2\n",
    "# Here we have a new pair so latest one will exist."
   ]
  },
  {
   "cell_type": "code",
   "execution_count": null,
   "id": "e6da5f32-de77-4bcb-87da-c85f089b356b",
   "metadata": {},
   "outputs": [],
   "source": [
    "--->Dictionary is a key:value pair\n",
    "--->at values position you can take any data type.\n",
    "--->at keys position list and dictionary will fail.\n",
    "--->Duplicates are not allowed\n",
    "--->If you want update a key value, latest value it will take."
   ]
  },
  {
   "cell_type": "markdown",
   "id": "e8d486b0-f60a-493e-bb7a-47233f70b860",
   "metadata": {},
   "source": [
    "### type"
   ]
  },
  {
   "cell_type": "code",
   "execution_count": 26,
   "id": "6bdf7364-e9b9-43bc-91da-ac9b8f3befde",
   "metadata": {},
   "outputs": [
    {
     "data": {
      "text/plain": [
       "dict"
      ]
     },
     "execution_count": 26,
     "metadata": {},
     "output_type": "execute_result"
    }
   ],
   "source": [
    "type(d1)"
   ]
  },
  {
   "cell_type": "code",
   "execution_count": 28,
   "id": "2306bee4-5089-4d41-b3b1-78503ea82670",
   "metadata": {},
   "outputs": [
    {
     "data": {
      "text/plain": [
       "'Robert'"
      ]
     },
     "execution_count": 28,
     "metadata": {},
     "output_type": "execute_result"
    }
   ],
   "source": [
    "d1={'Ram':25,'Raheem':30,'Robert':35}\n",
    "max(d1)"
   ]
  },
  {
   "cell_type": "code",
   "execution_count": null,
   "id": "a7260603-0266-4fda-85d1-83f253daf3ef",
   "metadata": {},
   "outputs": [],
   "source": [
    "--->Maximum value and minimum value is based on the key or value"
   ]
  },
  {
   "cell_type": "code",
   "execution_count": 30,
   "id": "d845c524-1007-491b-b448-f4290ad3d314",
   "metadata": {},
   "outputs": [
    {
     "data": {
      "text/plain": [
       "'Raheem'"
      ]
     },
     "execution_count": 30,
     "metadata": {},
     "output_type": "execute_result"
    }
   ],
   "source": [
    "d1={'Ram':25,'Raheem':30,'Robert':35}\n",
    "min(d1)"
   ]
  },
  {
   "cell_type": "code",
   "execution_count": 32,
   "id": "2e9b1b85-a8fa-4324-abfe-336cbc1bc40d",
   "metadata": {},
   "outputs": [
    {
     "data": {
      "text/plain": [
       "3"
      ]
     },
     "execution_count": 32,
     "metadata": {},
     "output_type": "execute_result"
    }
   ],
   "source": [
    "d1={'Ram':25,'Raheem':30,'Robert':35}\n",
    "len(d1)"
   ]
  },
  {
   "cell_type": "code",
   "execution_count": 34,
   "id": "263f649a-3e89-42b9-83c4-6476e6d41ef7",
   "metadata": {},
   "outputs": [
    {
     "ename": "TypeError",
     "evalue": "unsupported operand type(s) for +: 'int' and 'str'",
     "output_type": "error",
     "traceback": [
      "\u001b[1;31m---------------------------------------------------------------------------\u001b[0m",
      "\u001b[1;31mTypeError\u001b[0m                                 Traceback (most recent call last)",
      "Cell \u001b[1;32mIn[34], line 2\u001b[0m\n\u001b[0;32m      1\u001b[0m d1\u001b[38;5;241m=\u001b[39m{\u001b[38;5;124m'\u001b[39m\u001b[38;5;124mRam\u001b[39m\u001b[38;5;124m'\u001b[39m:\u001b[38;5;241m25\u001b[39m,\u001b[38;5;124m'\u001b[39m\u001b[38;5;124mRaheem\u001b[39m\u001b[38;5;124m'\u001b[39m:\u001b[38;5;241m30\u001b[39m,\u001b[38;5;124m'\u001b[39m\u001b[38;5;124mRobert\u001b[39m\u001b[38;5;124m'\u001b[39m:\u001b[38;5;241m35\u001b[39m}\n\u001b[1;32m----> 2\u001b[0m \u001b[38;5;28msum\u001b[39m(d1)\n",
      "\u001b[1;31mTypeError\u001b[0m: unsupported operand type(s) for +: 'int' and 'str'"
     ]
    }
   ],
   "source": [
    "d1={'Ram':25,'Raheem':30,'Robert':35}\n",
    "sum(d1)"
   ]
  },
  {
   "cell_type": "code",
   "execution_count": 36,
   "id": "69dd3332-ab2b-4ca4-a574-cf3c75be17bd",
   "metadata": {},
   "outputs": [
    {
     "data": {
      "text/plain": [
       "4"
      ]
     },
     "execution_count": 36,
     "metadata": {},
     "output_type": "execute_result"
    }
   ],
   "source": [
    "d2={1:3,3:4}\n",
    "sum(d2)"
   ]
  },
  {
   "cell_type": "code",
   "execution_count": null,
   "id": "249e8521-9452-47ca-b6e6-d533f5ccbf07",
   "metadata": {},
   "outputs": [],
   "source": [
    "--->if keys has numeric then we can do sum"
   ]
  },
  {
   "cell_type": "markdown",
   "id": "d562c0d9-edad-475d-ae5d-ba24c25fef5f",
   "metadata": {},
   "source": [
    "### In"
   ]
  },
  {
   "cell_type": "code",
   "execution_count": 1,
   "id": "34bc284b-2cf3-44fb-bc28-ac13072c5ff2",
   "metadata": {},
   "outputs": [
    {
     "data": {
      "text/plain": [
       "{'Ram': 25, 'Raheem': 30, 'Robert': 35}"
      ]
     },
     "execution_count": 1,
     "metadata": {},
     "output_type": "execute_result"
    }
   ],
   "source": [
    "d1={'Ram':25,'Raheem':30,'Robert':35}\n",
    "d1"
   ]
  },
  {
   "cell_type": "code",
   "execution_count": 11,
   "id": "95baf960-100a-434c-9fb3-956f192154b2",
   "metadata": {},
   "outputs": [
    {
     "name": "stdout",
     "output_type": "stream",
     "text": [
      "Ram\n",
      "Raheem\n",
      "Robert\n"
     ]
    }
   ],
   "source": [
    "for i in d1:\n",
    "    print(i)"
   ]
  },
  {
   "cell_type": "markdown",
   "id": "9d99025a-5422-4e11-9b94-ac69a69a98da",
   "metadata": {},
   "source": [
    "### Index"
   ]
  },
  {
   "cell_type": "code",
   "execution_count": 176,
   "id": "a897c9d6-b034-414a-a6d9-5f4dd2588f88",
   "metadata": {},
   "outputs": [
    {
     "data": {
      "text/plain": [
       "10"
      ]
     },
     "execution_count": 176,
     "metadata": {},
     "output_type": "execute_result"
    }
   ],
   "source": [
    "l1=[10,20,30,40,50]\n",
    "l1[0]"
   ]
  },
  {
   "cell_type": "code",
   "execution_count": 46,
   "id": "d07b59fc-2528-4af3-a352-58c80daac291",
   "metadata": {},
   "outputs": [
    {
     "data": {
      "text/plain": [
       "'A'"
      ]
     },
     "execution_count": 46,
     "metadata": {},
     "output_type": "execute_result"
    }
   ],
   "source": [
    "string1='Apple'\n",
    "string1[0]"
   ]
  },
  {
   "cell_type": "code",
   "execution_count": 48,
   "id": "578be8f2-67d9-4b9c-b581-25abba9731a3",
   "metadata": {},
   "outputs": [
    {
     "data": {
      "text/plain": [
       "25"
      ]
     },
     "execution_count": 48,
     "metadata": {},
     "output_type": "execute_result"
    }
   ],
   "source": [
    "d1={'Ram':25,'Raheem':30,'Robert':35}\n",
    "d1['Ram']\n",
    ".\n",
    "\n"
   ]
  },
  {
   "cell_type": "code",
   "execution_count": 21,
   "id": "fb13c6d9-65c2-4086-bd00-6444bc906b0a",
   "metadata": {},
   "outputs": [
    {
     "name": "stdout",
     "output_type": "stream",
     "text": [
      "the age of Ram is 25\n",
      "the age of Raheem is 30\n",
      "the age of Robert is 35\n"
     ]
    }
   ],
   "source": [
    "## can we get values using for loop\n",
    "## Here i means \"key\"\n",
    "d1={'Ram':25,'Raheem':30,'Robert':35}\n",
    "for i in d1:\n",
    "    print(\"the age of {} is {}\".format(i,d1[i]))"
   ]
  },
  {
   "cell_type": "code",
   "execution_count": 27,
   "id": "fb61dcdb-439d-4475-83d3-085e94432b42",
   "metadata": {},
   "outputs": [
    {
     "name": "stdout",
     "output_type": "stream",
     "text": [
      "0 10\n",
      "1 20\n",
      "2 30\n",
      "3 40\n",
      "4 50\n"
     ]
    }
   ],
   "source": [
    "list1=[10,20,30,40,50]\n",
    "for i in range(len(list1)):\n",
    "    print(i,list1[i])\n"
   ]
  },
  {
   "cell_type": "code",
   "execution_count": 224,
   "id": "d8bb143c-0f0b-4b38-bcad-d6196f661f07",
   "metadata": {},
   "outputs": [
    {
     "name": "stdout",
     "output_type": "stream",
     "text": [
      "0\n",
      "1\n",
      "2\n"
     ]
    }
   ],
   "source": [
    "### here i means key\n",
    "for i in range(len(d1)):\n",
    "    print(i)"
   ]
  },
  {
   "cell_type": "markdown",
   "id": "76eb6571-c65b-40e5-bc0c-c5f1e2bc42de",
   "metadata": {},
   "source": [
    "### Creating the empty dictionary and update :\n"
   ]
  },
  {
   "cell_type": "code",
   "execution_count": 31,
   "id": "627d4218-b3e1-4389-a72c-eb1549b52c51",
   "metadata": {},
   "outputs": [
    {
     "name": "stdout",
     "output_type": "stream",
     "text": [
      "mahesh\n"
     ]
    }
   ],
   "source": [
    "s=''\n",
    "for i in 'mahesh':\n",
    "    s=s+i\n",
    "\n",
    "print(s)"
   ]
  },
  {
   "cell_type": "code",
   "execution_count": 228,
   "id": "6e376d6e-c3f2-478b-9a71-74db1f9b7f48",
   "metadata": {},
   "outputs": [
    {
     "data": {
      "text/plain": [
       "[0, 1, 2, 3, 4, 5, 6, 7, 8, 9]"
      ]
     },
     "execution_count": 228,
     "metadata": {},
     "output_type": "execute_result"
    }
   ],
   "source": [
    "### for example in if we have empty list \n",
    "### and we want to append the values to that empty list we will do like\n",
    "\n",
    "l=[]\n",
    "for i in range(10):\n",
    "    l.append(i)\n",
    "l"
   ]
  },
  {
   "cell_type": "code",
   "execution_count": 93,
   "id": "8f6ded5e-3368-4e9c-a78f-b131cb7b3655",
   "metadata": {},
   "outputs": [
    {
     "data": {
      "text/plain": [
       "[0, 1, 2, 3, 4, 5, 6, 7, 8, 9]"
      ]
     },
     "execution_count": 93,
     "metadata": {},
     "output_type": "execute_result"
    }
   ],
   "source": [
    "### If we want to do using with the list comprehension \n",
    "\n",
    "l=[i for i in range(10)]\n",
    "l"
   ]
  },
  {
   "cell_type": "code",
   "execution_count": 95,
   "id": "9bdfb843-bee4-46d3-b8d1-f0b0b4f53852",
   "metadata": {},
   "outputs": [
    {
     "data": {
      "text/plain": [
       "{'fruit': 'apple'}"
      ]
     },
     "execution_count": 95,
     "metadata": {},
     "output_type": "execute_result"
    }
   ],
   "source": [
    "### Now in dictionary we do it like:\n",
    "d1={}\n",
    "d1['fruit']='apple'\n",
    "d1           ### This like we will update the dictionary."
   ]
  },
  {
   "cell_type": "code",
   "execution_count": 101,
   "id": "43e33d35-259d-42f8-b1ee-e03ccfddd2ca",
   "metadata": {},
   "outputs": [
    {
     "data": {
      "text/plain": [
       "{'name': 'mahesh', 'comapany': 'cognizant', 'place': 'hyderabad'}"
      ]
     },
     "execution_count": 101,
     "metadata": {},
     "output_type": "execute_result"
    }
   ],
   "source": [
    "## Write a program creat a data base name= mahesh , company= cognizant , place= hyderabad\n",
    "\n",
    "d1={}\n",
    "d1['name']='mahesh'\n",
    "d1['comapany']='cognizant'\n",
    "d1['place']='hyderabad'\n",
    "d1"
   ]
  },
  {
   "cell_type": "code",
   "execution_count": 35,
   "id": "156e9f0b-9b61-41fc-9888-ae5fce69a1f0",
   "metadata": {},
   "outputs": [
    {
     "data": {
      "text/plain": [
       "{'ram': 25, 'raheem': 30, 'robert': 35}"
      ]
     },
     "execution_count": 35,
     "metadata": {},
     "output_type": "execute_result"
    }
   ],
   "source": [
    "### Write a program creat a dictionary based on two lists\n",
    "### name=['ram','raheem','robert']\n",
    "### age=[25,30,35]\n",
    "\n",
    "name=['ram','raheem','robert']\n",
    "age=[25,30,35]\n",
    "dict1={}\n",
    "for i,j in zip(name,age):\n",
    "    dict1[i]=j\n",
    "dict1\n",
    "\n"
   ]
  },
  {
   "cell_type": "code",
   "execution_count": 41,
   "id": "48838b79-d9e7-4560-a7c1-052404da3647",
   "metadata": {},
   "outputs": [
    {
     "name": "stdout",
     "output_type": "stream",
     "text": [
      "0 ram 25\n",
      "1 raheem 30\n",
      "2 robert 35\n"
     ]
    }
   ],
   "source": [
    "name=['ram','raheem','robert']\n",
    "age=[25,30,35]\n",
    "for i in range(len(name)):\n",
    "    print(i,name[i],age[i])"
   ]
  },
  {
   "cell_type": "code",
   "execution_count": 52,
   "id": "f874807a-3a3d-441c-b0e6-33330c13bc96",
   "metadata": {},
   "outputs": [
    {
     "data": {
      "text/plain": [
       "{'ram': 20, 'raheem': 25, 'robert': 30}"
      ]
     },
     "execution_count": 52,
     "metadata": {},
     "output_type": "execute_result"
    }
   ],
   "source": [
    "name=['ram','raheem','robert']\n",
    "age=[25,30,35]\n",
    "dict1={}\n",
    "for i in range(len(name)):\n",
    "    dict1[name[i]]=age[i]\n",
    "dict1                                       ### Here \"i\" means key"
   ]
  },
  {
   "cell_type": "markdown",
   "id": "a9d12df8-1c06-490c-afd8-1c150ccca9bf",
   "metadata": {},
   "source": [
    "### This is the dicionary comprehension:"
   ]
  },
  {
   "cell_type": "code",
   "execution_count": 131,
   "id": "2c6f33c8-526c-4ddd-be9c-a91b50f986ee",
   "metadata": {},
   "outputs": [
    {
     "data": {
      "text/plain": [
       "{'ram': 25, 'raheem': 30, 'robert': 35}"
      ]
     },
     "execution_count": 131,
     "metadata": {},
     "output_type": "execute_result"
    }
   ],
   "source": [
    "dict1={name[i]:age[i] for i in range(len(name))}\n",
    "dict1"
   ]
  },
  {
   "cell_type": "code",
   "execution_count": null,
   "id": "3a02bdb6-8164-4ea3-8593-5990125f2c3c",
   "metadata": {},
   "outputs": [],
   "source": [
    "## Write a program take 5 random numbers \n",
    "## and creat a dictionary with even and odd\n",
    "\n",
    "## output: {'even':[20,22],'odd':[19,21,23]}"
   ]
  },
  {
   "cell_type": "code",
   "execution_count": 174,
   "id": "dc6b481c-84c0-4479-9948-50d9eff8eecf",
   "metadata": {},
   "outputs": [
    {
     "name": "stdout",
     "output_type": "stream",
     "text": [
      "{'even_list': [24, 20], 'odd_list': [21, 25, 23]}\n"
     ]
    }
   ],
   "source": [
    "dict1={}\n",
    "even_list=[]\n",
    "odd_list=[]\n",
    "import random\n",
    "for i in range(5):\n",
    "    random_num=random.randint(20,25)\n",
    "    if random_num%2==0:\n",
    "        even_list.append(random_num)\n",
    "    else:\n",
    "        odd_list.append(random_num)\n",
    "dict1['even_list']=even_list\n",
    "dict1['odd_list']=odd_list\n",
    "print(dict1)"
   ]
  },
  {
   "cell_type": "code",
   "execution_count": null,
   "id": "b77eb333-db12-49b0-82bc-f2e0dafc6845",
   "metadata": {},
   "outputs": [],
   "source": []
  }
 ],
 "metadata": {
  "kernelspec": {
   "display_name": "Python 3 (ipykernel)",
   "language": "python",
   "name": "python3"
  },
  "language_info": {
   "codemirror_mode": {
    "name": "ipython",
    "version": 3
   },
   "file_extension": ".py",
   "mimetype": "text/x-python",
   "name": "python",
   "nbconvert_exporter": "python",
   "pygments_lexer": "ipython3",
   "version": "3.12.7"
  }
 },
 "nbformat": 4,
 "nbformat_minor": 5
}
