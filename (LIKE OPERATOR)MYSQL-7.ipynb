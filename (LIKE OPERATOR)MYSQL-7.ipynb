{
 "cells": [
  {
   "cell_type": "raw",
   "id": "5ed1cb3d-b44c-412f-9903-e23e960b9d99",
   "metadata": {},
   "source": [
    "--->create database movies;\n",
    "--->create table actor(\n",
    "        actor_id INT AUTO_INCREMENT PRIMARY KEY,\n",
    "        first_name varchar(50) not null,\n",
    "        last_name varchar(50),\n",
    "        birth_date date,\n",
    "        nationality varchar(50) default \"indian\",\n",
    "        gender enum('male','female','other'),\n",
    "        awards INT default 0\n",
    "        );\n",
    "--->insert into actor (first_name,last_name,birth_date,gender,awards) values\n",
    "     (\"arjun\",\"allu\",\"1997-02-03\",\"male\",2),\n",
    "     (\"rana\",\"dhagubati\",\"1992-01-11\",\"male\",5),\n",
    "     (\"kiran\",\"abravaram\",\"1999-06-14\",\"male\",7),\n",
    "     (\"pk\",\"konidhela\",\"1989-03-19\",\"male\",10);\n",
    "\n",
    "Q1) Find the actor whose name starts with a?\n",
    "Q2) Find actors whose first or last name ends with 'a'?\n",
    "Q3) \n",
    "Q4) find whose first name is exactly 6 characters(use '__')?\n",
    "Q5) find whose lasr name has 'a' as a second letter? LIKE _A%\n",
    "Q6) find whose first name contains 'an' but doesnt start with 'A'\n",
    "Q7)\n",
    "Q8)"
   ]
  },
  {
   "cell_type": "raw",
   "id": "fcacb034-1b36-4b7b-a51a-c7e4f5e75d38",
   "metadata": {},
   "source": [
    "--->Like operator:\n",
    "                --->It is a operator which works on string.\n",
    "                --->We are using this \"like\" with where clause.\n",
    "                --->It is also usedfor pattern matching.\n",
    "                --->SYNTAX:\n",
    "                            -->SELECT * FROM table_name WHERE column_name like \"%anything%\";\n",
    "                            -->SELECT * FROM table_name WHERE column_name1,column_name1,......LIKE \"%anything%\";\n",
    "\n",
    "--->LIKE : It is operator for patteren matching\n",
    "--->a.%: it will match zero or more characters\n",
    "\n",
    "        --->LIKE \"a%\"------>starts with\n",
    "        --->LIKE \"%a\"------>Ends with\n",
    "        --->LIKE \"%\"------->It will match all the strings\n",
    "        --->LIKE \"%a\"------>It will match the strings which contains 'a'\n",
    "\n",
    "--->NOT LIKE a%----->not starting with a\n",
    "\n",
    "--->'-'---->underscore\n",
    "---> _ ---->wild  character it will match the exact number of character in the string(1cha)\n",
    "---> __ --->2cha"
   ]
  },
  {
   "cell_type": "code",
   "execution_count": null,
   "id": "7cc90991-2238-4b08-ae01-2ddb7e3d5ce1",
   "metadata": {},
   "outputs": [],
   "source": []
  }
 ],
 "metadata": {
  "kernelspec": {
   "display_name": "Python 3 (ipykernel)",
   "language": "python",
   "name": "python3"
  },
  "language_info": {
   "codemirror_mode": {
    "name": "ipython",
    "version": 3
   },
   "file_extension": ".py",
   "mimetype": "text/x-python",
   "name": "python",
   "nbconvert_exporter": "python",
   "pygments_lexer": "ipython3",
   "version": "3.12.7"
  }
 },
 "nbformat": 4,
 "nbformat_minor": 5
}
