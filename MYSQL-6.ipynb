{
 "cells": [
  {
   "cell_type": "markdown",
   "id": "d1e157cb-a8b0-4266-9038-8dc70cc9e0fe",
   "metadata": {},
   "source": [
    "### 2NF"
   ]
  },
  {
   "cell_type": "code",
   "execution_count": null,
   "id": "27c22007-3a76-421e-8e4c-219e19f4aac8",
   "metadata": {},
   "outputs": [],
   "source": [
    "--->It should be in 1NF\n",
    "--->There should not be any parital functional dependency.\n",
    "--->It should be fully functionally dependent."
   ]
  },
  {
   "cell_type": "code",
   "execution_count": null,
   "id": "767a710c-2a97-4887-85ed-6d4eccb41c2f",
   "metadata": {},
   "outputs": [],
   "source": [
    "#Q.)\n",
    "TABLE 1(BASE_TABLE)\n",
    "create table project(\n",
    "    project_id int auto_increment primary key,\n",
    "    project_name varchar(20)\n",
    "    );\n",
    "\n",
    "TABLE 2(REFERENCING_TABLE)\n",
    "create table student(\n",
    "    student_id int auto_increment primary key,\n",
    "    student name varchar(20),\n",
    "    project_id int,\n",
    "    foreign key(project_id) references project(project_id)\n",
    "    );\n",
    "\n",
    "Q2)\n",
    "\n",
    "    TABLE 1(BASE_TABLE)\n",
    "    create table orders(\n",
    "        order_id int,\n",
    "        product_id int,\n",
    "        product_name varchar(30),\n",
    "        primary key(order_id,product_id)\n",
    "        );\n",
    "\n",
    "    TABLE 2 (REFERENCING TABLE)\n",
    "\n",
    "    create table product(\n",
    "        product id_int,\n",
    "        product_name varchar(30),\n",
    "        foreign key (product_id) references orders(product_id) on delete cascade on update cascade\n",
    "        );\n",
    "\n"
   ]
  },
  {
   "cell_type": "markdown",
   "id": "7456038d-d1d9-4209-893c-58ed470abed1",
   "metadata": {},
   "source": [
    " ### 3NF : Third normal form"
   ]
  },
  {
   "cell_type": "code",
   "execution_count": null,
   "id": "ebf7607c-db12-49d1-820f-34a1be21d203",
   "metadata": {},
   "outputs": [],
   "source": [
    "--->It should be in 2NF\n",
    "--->There should not be any transitive dependency.\n",
    "--->If we make changes in one columns it will impact to other coloumn also\n",
    "\n",
    "impact to other column also\n",
    "student_id,student_name,city,zip\n",
    "student_id->student_name,city,zip\n",
    "zip-->city\n",
    "\n",
    "---> Whenever we will get transitive dependency we make the separate table for it."
   ]
  }
 ],
 "metadata": {
  "kernelspec": {
   "display_name": "Python 3 (ipykernel)",
   "language": "python",
   "name": "python3"
  },
  "language_info": {
   "codemirror_mode": {
    "name": "ipython",
    "version": 3
   },
   "file_extension": ".py",
   "mimetype": "text/x-python",
   "name": "python",
   "nbconvert_exporter": "python",
   "pygments_lexer": "ipython3",
   "version": "3.12.7"
  }
 },
 "nbformat": 4,
 "nbformat_minor": 5
}
