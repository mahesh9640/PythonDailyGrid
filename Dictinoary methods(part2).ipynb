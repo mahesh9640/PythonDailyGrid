{
 "cells": [
  {
   "cell_type": "markdown",
   "id": "6c17adb6-5d86-400f-9790-e139d8638ce2",
   "metadata": {},
   "source": [
    "### Dicitonary Methods"
   ]
  },
  {
   "cell_type": "markdown",
   "id": "bff0a8da-9a55-4107-b676-4d00bef292f7",
   "metadata": {},
   "source": [
    "### ITEMS-KEYS-VALUE"
   ]
  },
  {
   "cell_type": "code",
   "execution_count": 4,
   "id": "8ecb0018-ae6f-4f5b-8b8f-4338f76363d7",
   "metadata": {},
   "outputs": [
    {
     "data": {
      "text/plain": [
       "['__class__',\n",
       " '__class_getitem__',\n",
       " '__contains__',\n",
       " '__delattr__',\n",
       " '__delitem__',\n",
       " '__dir__',\n",
       " '__doc__',\n",
       " '__eq__',\n",
       " '__format__',\n",
       " '__ge__',\n",
       " '__getattribute__',\n",
       " '__getitem__',\n",
       " '__getstate__',\n",
       " '__gt__',\n",
       " '__hash__',\n",
       " '__init__',\n",
       " '__init_subclass__',\n",
       " '__ior__',\n",
       " '__iter__',\n",
       " '__le__',\n",
       " '__len__',\n",
       " '__lt__',\n",
       " '__ne__',\n",
       " '__new__',\n",
       " '__or__',\n",
       " '__reduce__',\n",
       " '__reduce_ex__',\n",
       " '__repr__',\n",
       " '__reversed__',\n",
       " '__ror__',\n",
       " '__setattr__',\n",
       " '__setitem__',\n",
       " '__sizeof__',\n",
       " '__str__',\n",
       " '__subclasshook__',\n",
       " 'clear',\n",
       " 'copy',\n",
       " 'fromkeys',\n",
       " 'get',\n",
       " 'items',\n",
       " 'keys',\n",
       " 'pop',\n",
       " 'popitem',\n",
       " 'setdefault',\n",
       " 'update',\n",
       " 'values']"
      ]
     },
     "execution_count": 4,
     "metadata": {},
     "output_type": "execute_result"
    }
   ],
   "source": [
    "dir({})\n",
    "\n",
    "#str=''\n",
    "#list=[]\n",
    "#dict={}"
   ]
  },
  {
   "cell_type": "code",
   "execution_count": 8,
   "id": "f3ab5335-1399-486c-9b36-052a07435e01",
   "metadata": {},
   "outputs": [
    {
     "data": {
      "text/plain": [
       "{'ram': 25, 'raheem': 30, 'Robert': 35}"
      ]
     },
     "execution_count": 8,
     "metadata": {},
     "output_type": "execute_result"
    }
   ],
   "source": [
    "d1={\"ram\":25,\"raheem\":30,\"Robert\":35}\n",
    "d1"
   ]
  },
  {
   "cell_type": "code",
   "execution_count": 18,
   "id": "ae7ef7a5-c0e9-487d-8975-b4f70fb77b19",
   "metadata": {},
   "outputs": [
    {
     "data": {
      "text/plain": [
       "dict_items([('ram', 25), ('raheem', 30), ('Robert', 35)])"
      ]
     },
     "execution_count": 18,
     "metadata": {},
     "output_type": "execute_result"
    }
   ],
   "source": [
    "## Items\n",
    "items=d1.items()\n",
    "items"
   ]
  },
  {
   "cell_type": "code",
   "execution_count": 20,
   "id": "132775e6-b406-430a-9c23-f4bfd92e348b",
   "metadata": {},
   "outputs": [
    {
     "data": {
      "text/plain": [
       "dict_items"
      ]
     },
     "execution_count": 20,
     "metadata": {},
     "output_type": "execute_result"
    }
   ],
   "source": [
    "type(items)"
   ]
  },
  {
   "cell_type": "code",
   "execution_count": 30,
   "id": "270ffeed-cf49-480a-bb28-5e27154c7f8a",
   "metadata": {},
   "outputs": [
    {
     "data": {
      "text/plain": [
       "dict_keys(['ram', 'raheem', 'Robert'])"
      ]
     },
     "execution_count": 30,
     "metadata": {},
     "output_type": "execute_result"
    }
   ],
   "source": [
    "## Keys\n",
    "keys=d1.keys()\n",
    "keys"
   ]
  },
  {
   "cell_type": "code",
   "execution_count": 32,
   "id": "146d5ac3-e018-4fd3-a6d4-ebea0b8c0185",
   "metadata": {},
   "outputs": [
    {
     "data": {
      "text/plain": [
       "dict_keys"
      ]
     },
     "execution_count": 32,
     "metadata": {},
     "output_type": "execute_result"
    }
   ],
   "source": [
    "type(keys)"
   ]
  },
  {
   "cell_type": "code",
   "execution_count": 34,
   "id": "815978d4-d8c9-42fb-9469-8b5390584e91",
   "metadata": {},
   "outputs": [
    {
     "data": {
      "text/plain": [
       "dict_values([25, 30, 35])"
      ]
     },
     "execution_count": 34,
     "metadata": {},
     "output_type": "execute_result"
    }
   ],
   "source": [
    "## values\n",
    "values=d1.values()\n",
    "values\n"
   ]
  },
  {
   "cell_type": "code",
   "execution_count": 36,
   "id": "821e262e-8c04-4453-b863-db125f233330",
   "metadata": {},
   "outputs": [
    {
     "data": {
      "text/plain": [
       "dict_values"
      ]
     },
     "execution_count": 36,
     "metadata": {},
     "output_type": "execute_result"
    }
   ],
   "source": [
    "type(values)"
   ]
  },
  {
   "cell_type": "code",
   "execution_count": 38,
   "id": "b51f72b2-50f5-4398-b2a5-c026300982a3",
   "metadata": {},
   "outputs": [
    {
     "data": {
      "text/plain": [
       "[10, 20, 30, 40]"
      ]
     },
     "execution_count": 38,
     "metadata": {},
     "output_type": "execute_result"
    }
   ],
   "source": [
    "l1=[10,20,30]\n",
    "l1.append(40)\n",
    "l1"
   ]
  },
  {
   "cell_type": "code",
   "execution_count": 54,
   "id": "e7a1e3de-bfda-4dde-ac4a-4cccbd214284",
   "metadata": {},
   "outputs": [
    {
     "data": {
      "text/plain": [
       "[25, 30, 35]"
      ]
     },
     "execution_count": 54,
     "metadata": {},
     "output_type": "execute_result"
    }
   ],
   "source": [
    "## here above dict_values([20,30,35]) this is not a list to konw what type of it. so to konw that we will convert it into a list.\n",
    "## Then you can apply list methods\n",
    "\n",
    "values\n",
    "values_list=list(values)\n",
    "values_list"
   ]
  },
  {
   "cell_type": "code",
   "execution_count": 56,
   "id": "07d3b757-583d-4ccf-b52a-b57b0f30eabd",
   "metadata": {},
   "outputs": [
    {
     "data": {
      "text/plain": [
       "['ram', 'raheem', 'Robert']"
      ]
     },
     "execution_count": 56,
     "metadata": {},
     "output_type": "execute_result"
    }
   ],
   "source": [
    "### Now we are doing for keys\n",
    "key_list=list(keys)\n",
    "key_list"
   ]
  },
  {
   "cell_type": "code",
   "execution_count": null,
   "id": "843436dc-d7be-4ff5-948a-45faf5e8053e",
   "metadata": {},
   "outputs": [],
   "source": [
    "### So in interviewi will give you the dictinoary \n",
    "### can you extract keys and values in a list\n",
    "\n",
    "### i will give two list keys and values\n",
    "### can you creat a dictionary"
   ]
  },
  {
   "cell_type": "code",
   "execution_count": 82,
   "id": "476c8880-66b9-4e6b-94dd-92f50cd485a6",
   "metadata": {},
   "outputs": [
    {
     "name": "stdout",
     "output_type": "stream",
     "text": [
      "['ram', 'raheem', 'Robert']\n",
      "[25, 30, 35]\n"
     ]
    },
    {
     "data": {
      "text/plain": [
       "{'ram': 25, 'raheem': 30, 'Robert': 35}"
      ]
     },
     "execution_count": 82,
     "metadata": {},
     "output_type": "execute_result"
    }
   ],
   "source": [
    "d1={\"ram\":25,\"raheem\":30,\"Robert\":35}\n",
    "keys=list(d1.keys())\n",
    "values=list(d1.values())\n",
    "print(keys)\n",
    "print(values)\n",
    "dict1={}\n",
    "for i,j in zip(keys,values):\n",
    "    dict1[i]=j\n",
    "dict1\n",
    "    "
   ]
  },
  {
   "cell_type": "code",
   "execution_count": 84,
   "id": "861fa925-ca1b-4463-8b3a-54e5ade65f63",
   "metadata": {},
   "outputs": [
    {
     "data": {
      "text/plain": [
       "{'ram': 25, 'raheem': 30, 'robert': 35}"
      ]
     },
     "execution_count": 84,
     "metadata": {},
     "output_type": "execute_result"
    }
   ],
   "source": [
    "keys=['ram','raheem','robert']\n",
    "values=[25,30,35]\n",
    "dict1={}\n",
    "for i,j in zip(keys,values):\n",
    "    dict1[i]=j\n",
    "dict1"
   ]
  },
  {
   "cell_type": "code",
   "execution_count": 1,
   "id": "c158d84a-b02c-45be-84c0-3b470e7cca00",
   "metadata": {},
   "outputs": [
    {
     "name": "stdout",
     "output_type": "stream",
     "text": [
      "first name: pyhton\n",
      "second name: anaconda\n",
      "third name: nareshit\n"
     ]
    }
   ],
   "source": [
    "str1=\"pyhton.anaconda@nareshit.com\"\n",
    "print(\"first name:\",str1[:str1.find('.')])\n",
    "print(\"second name:\",str1[str1.find('.')+1:str1.find('@')])\n",
    "print(\"third name:\",str1[str1.find('@')+1:str1.find('.',str1.find('.')+1)])"
   ]
  },
  {
   "cell_type": "code",
   "execution_count": null,
   "id": "017f70a2-e00a-4c88-a277-d7c0edbeffbc",
   "metadata": {},
   "outputs": [],
   "source": [
    "#s1='virat.kohili@blr.com,rohit.sharma@mumbai.com,kl.rahul@lucknow.com'\n",
    "#ouput should be: {\"first name\":[\"virat\",\"rohit\",\"kl\"]\n",
    "## \"second name:[\"kohili\",\"sharma\",\"rahul\"]\n",
    "## comapnay:[\"blr\",\"mumbai\",\"lucknow\"]"
   ]
  },
  {
   "cell_type": "code",
   "execution_count": 150,
   "id": "3704b61b-f22a-42a8-b15a-9d4b92ffd060",
   "metadata": {},
   "outputs": [
    {
     "data": {
      "text/plain": [
       "{'first_name': ['virat', 'virat', 'vi'],\n",
       " 'second_name': ['vira',\n",
       "  'kohili',\n",
       "  'com,rohi',\n",
       "  'sharma',\n",
       "  'com,k',\n",
       "  'rahul',\n",
       "  'co'],\n",
       " 'company_name': ['blr', 'mumbai', 'lucknow']}"
      ]
     },
     "execution_count": 150,
     "metadata": {},
     "output_type": "execute_result"
    }
   ],
   "source": [
    "s1='virat.kohili@blr.com,rohit.sharma@mumbai.com,kl.rahul@lucknow.com'\n",
    "d1={}\n",
    "first_name=[s1[:str1.find('.')]for str1 in s1.split(',')]\n",
    "second_name=[s1[s1.find('.')+1:s1.find('@')] for s1 in s1.split('.')]\n",
    "company_name=[s1[s1.find('@')+1:s1.find('.',s1.find('.')+1)] for s1 in s1.split(',')]\n",
    "first_name,second_name,company_name\n",
    "d1['first_name']=first_name\n",
    "d1['second_name']=second_name\n",
    "d1['company_name']=company_name\n",
    "d1\n"
   ]
  },
  {
   "cell_type": "code",
   "execution_count": 142,
   "id": "9c2a00f1-074a-4914-8a17-16c6a4ac21a3",
   "metadata": {},
   "outputs": [
    {
     "data": {
      "text/plain": [
       "{'can': 4, 'you': 2, 'canner': 1, 'able': 1, 'to': 1, 'canner.': 1}"
      ]
     },
     "execution_count": 142,
     "metadata": {},
     "output_type": "execute_result"
    }
   ],
   "source": [
    "str1='can can you canner can you able to can canner.'\n",
    "l1=str1.split(' ')\n",
    "d1={}\n",
    "for i in l1:\n",
    "    d1[i]=l1.count(i)\n",
    "d1\n"
   ]
  },
  {
   "cell_type": "code",
   "execution_count": 122,
   "id": "0b2cb6e5-4d05-4cf9-8f45-380ea288730f",
   "metadata": {},
   "outputs": [
    {
     "data": {
      "text/plain": [
       "['can', 'can', 'you', 'canner', 'can', 'you', 'able', 'to', 'can', 'canner.']"
      ]
     },
     "execution_count": 122,
     "metadata": {},
     "output_type": "execute_result"
    }
   ],
   "source": [
    "str1='can can you canner can you able to can canner.'\n",
    "str1.split()"
   ]
  },
  {
   "cell_type": "code",
   "execution_count": 124,
   "id": "ba3804b5-e48d-404d-9170-9462273394af",
   "metadata": {},
   "outputs": [
    {
     "data": {
      "text/plain": [
       "dict_keys(['can', 'you', 'canner', 'able', 'to', 'canner.'])"
      ]
     },
     "execution_count": 124,
     "metadata": {},
     "output_type": "execute_result"
    }
   ],
   "source": [
    "d1.keys()"
   ]
  },
  {
   "cell_type": "code",
   "execution_count": 126,
   "id": "1f2dcaf7-e8a2-4170-b778-6b099924fed7",
   "metadata": {},
   "outputs": [
    {
     "data": {
      "text/plain": [
       "dict_values([4, 2, 1, 1, 1, 1])"
      ]
     },
     "execution_count": 126,
     "metadata": {},
     "output_type": "execute_result"
    }
   ],
   "source": [
    "d1.values()"
   ]
  },
  {
   "cell_type": "code",
   "execution_count": 3,
   "id": "03c089f8-45e7-4e1c-a2cd-5778c8074555",
   "metadata": {},
   "outputs": [
    {
     "data": {
      "text/plain": [
       "{'hi': 1, 'how': 2, 'are': 1, 'you': 2, 'and': 1, 'do': 2}"
      ]
     },
     "execution_count": 3,
     "metadata": {},
     "output_type": "execute_result"
    }
   ],
   "source": [
    "str2=\"hi how are you and how do you do\"\n",
    "l2=str2.split(' ')\n",
    "d2={}\n",
    "for i in l2:\n",
    "    d2[i]=l2.count(i)\n",
    "d2"
   ]
  },
  {
   "cell_type": "code",
   "execution_count": 5,
   "id": "0701c866-0c7d-4ae9-92bb-81cda4bd957c",
   "metadata": {},
   "outputs": [
    {
     "data": {
      "text/plain": [
       "['hi', 'how', 'are', 'you', 'and', 'how', 'do', 'you', 'do']"
      ]
     },
     "execution_count": 5,
     "metadata": {},
     "output_type": "execute_result"
    }
   ],
   "source": [
    "str2=\"hi how are you and how do you do\"\n",
    "str2.split()"
   ]
  },
  {
   "cell_type": "code",
   "execution_count": 7,
   "id": "f50325c3-5a99-4633-b0d5-eca8c6e0b7d6",
   "metadata": {},
   "outputs": [
    {
     "data": {
      "text/plain": [
       "dict_keys(['hi', 'how', 'are', 'you', 'and', 'do'])"
      ]
     },
     "execution_count": 7,
     "metadata": {},
     "output_type": "execute_result"
    }
   ],
   "source": [
    "d2.keys()"
   ]
  },
  {
   "cell_type": "code",
   "execution_count": 9,
   "id": "72756c58-b657-4ff0-992d-67fb5b1478ca",
   "metadata": {},
   "outputs": [
    {
     "data": {
      "text/plain": [
       "dict_values([1, 2, 1, 2, 1, 2])"
      ]
     },
     "execution_count": 9,
     "metadata": {},
     "output_type": "execute_result"
    }
   ],
   "source": [
    "d2.values()"
   ]
  },
  {
   "cell_type": "code",
   "execution_count": 128,
   "id": "6b66b375-434f-47c0-a085-c0c43be78987",
   "metadata": {},
   "outputs": [
    {
     "name": "stdout",
     "output_type": "stream",
     "text": [
      "125\n",
      "230\n",
      "335\n"
     ]
    }
   ],
   "source": [
    "list1=[100,200,300]\n",
    "list2=[25,30,35]\n",
    "for i,j in zip(list1,list2):\n",
    "    print(i+j)"
   ]
  },
  {
   "cell_type": "code",
   "execution_count": 21,
   "id": "69aca576-8a3c-4980-8d2b-b75793b4b965",
   "metadata": {},
   "outputs": [
    {
     "data": {
      "text/plain": [
       "[125, 230, 335]"
      ]
     },
     "execution_count": 21,
     "metadata": {},
     "output_type": "execute_result"
    }
   ],
   "source": [
    "list1=[100,200,300]\n",
    "list2=[25,30,35]\n",
    "output=[]\n",
    "for i,j in zip(list1,list2):\n",
    "    output.append(i+j)\n",
    "output"
   ]
  },
  {
   "cell_type": "code",
   "execution_count": 172,
   "id": "6224e5ce-9d18-498d-87b7-d94728fecf20",
   "metadata": {},
   "outputs": [
    {
     "name": "stdout",
     "output_type": "stream",
     "text": [
      "{'a': 70, 'b': 120, 'c': 240}\n"
     ]
    }
   ],
   "source": [
    "d1={'a':20,'b':20,'c':40}\n",
    "d2={'a':50,'b':100,'c':200}\n",
    "#o/p={'a':70,'b':130,'c':240}\n",
    "result={key:d1.get(key,0)+d2.get(key,0)for key in set(d1)|set(d2)}\n",
    "print(result)"
   ]
  },
  {
   "cell_type": "code",
   "execution_count": 35,
   "id": "72b44720-222c-4f79-ba5a-e43fa81a4b84",
   "metadata": {},
   "outputs": [
    {
     "data": {
      "text/plain": [
       "['aa', 'bb', 'cc']"
      ]
     },
     "execution_count": 35,
     "metadata": {},
     "output_type": "execute_result"
    }
   ],
   "source": [
    "d1={'a':20,'b':20,'c':40}\n",
    "d2={'a':50,'b':100,'c':200}\n",
    "output=[]\n",
    "for i,j in zip(d1,d2):\n",
    "    output.append(i+j)\n",
    "output"
   ]
  },
  {
   "cell_type": "code",
   "execution_count": null,
   "id": "f9ec40ea-0b1e-49d7-854c-6d1961fbc14a",
   "metadata": {},
   "outputs": [],
   "source": []
  }
 ],
 "metadata": {
  "kernelspec": {
   "display_name": "Python 3 (ipykernel)",
   "language": "python",
   "name": "python3"
  },
  "language_info": {
   "codemirror_mode": {
    "name": "ipython",
    "version": 3
   },
   "file_extension": ".py",
   "mimetype": "text/x-python",
   "name": "python",
   "nbconvert_exporter": "python",
   "pygments_lexer": "ipython3",
   "version": "3.12.7"
  }
 },
 "nbformat": 4,
 "nbformat_minor": 5
}
