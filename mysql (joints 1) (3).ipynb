{
 "cells": [
  {
   "cell_type": "raw",
   "id": "07296749-ecd8-4432-b980-4dbf895f050a",
   "metadata": {},
   "source": [
    "create table departments(department_id int primary key,department_name varchar(2550) not null);insert depa\n",
    "insert departments(department_id,department_name) values\n",
    "(101,\"hr\"),\n",
    "(102,\"sales\"),\n",
    "(103,\"accounts\"),\n",
    "(104,\"it\"),\n",
    "(105,\"business\");\n",
    "\n",
    "\n",
    "create table employees(emp_id int primary key,name varchar(255) not null,department_id int,salary decimal(10,2),foreign key(department_id) references departments(department_id));\n",
    "\n",
    "insert employees(emp_id,name,department_id,salary) values \n",
    "(1,\"mahesh\",101,1000.00),\n",
    "(2,\"bharath\",102,2000.00),\n",
    "(3,\"vishnu\",103,3000.00),\n",
    "(4,\"trivikram\",104,4000.00),\n",
    "(5,\"harsha\",105,5000.00),\n",
    "(6,\"abhi\",106,6000.00),\n",
    "(7,\"akihl\",107,7000.00),\n",
    "(8,\"siva\",108,8000.00),\n",
    "(9,\"chinni\",109,9000.00),\n",
    "(10,\"rock\",1010,10000.00);"
   ]
  },
  {
   "cell_type": "code",
   "execution_count": null,
   "id": "d6f59e64-fccd-4ccf-9b50-972b74918f57",
   "metadata": {},
   "outputs": [],
   "source": [
    "             *** It is nested query (query inside the query)\n",
    "             *** We can write any numbers of sub query but the database engine will execute it in reverse direction.\n",
    "             *** We can write the sub-query in :\n",
    "                     1.select statement.\n",
    "                     2.where clause.\n",
    "                     3.from\n",
    "                     4.having clause"
   ]
  },
  {
   "cell_type": "markdown",
   "id": "59b78b1a-bfc6-475e-b071-f6deb2a045c8",
   "metadata": {},
   "source": [
    "### joints:"
   ]
  },
  {
   "cell_type": "code",
   "execution_count": null,
   "id": "d7f1e79f-ef1f-4c13-a334-869178ba392a",
   "metadata": {},
   "outputs": [],
   "source": [
    "--->It is a operation in  a mysql to combine two or more tables with the help of one common attribute.\n",
    "--->The beauty of joints is we caj access the multiple records from multiple tables by writing a single query.\n",
    "--->There are six types of joints in mysql.\n",
    "    1.Inner joint.\n",
    "    2.left outer joint.\n",
    "    3.right order joint.\n",
    "    4.full outer joint.\n",
    "    5.cross joint.\n",
    "    6.self joint."
   ]
  },
  {
   "cell_type": "code",
   "execution_count": null,
   "id": "06836a41-0399-40e6-afdf-0002286767ca",
   "metadata": {},
   "outputs": [],
   "source": [
    "--->Member-ship operator:\n",
    "                    --->It will specify the particular attribute is belongs which table.\n",
    "                    --->It will increase the readabillity.\n",
    "ex: student.name:student is a table name and \"name\" is attribute which is belongs to the student table."
   ]
  },
  {
   "cell_type": "markdown",
   "id": "0b83f5af-22a1-4329-be26-e89ae980c06a",
   "metadata": {},
   "source": [
    "### Inner joint"
   ]
  },
  {
   "cell_type": "raw",
   "id": "87385e8d-f7db-45c5-b4fa-ea87e92e43ed",
   "metadata": {},
   "source": [
    "--->It will combine two tables based on the one common attribute where exactly it is matching.\n",
    "--->We retriving rows when it matches otherwise it will discard.\n",
    "--->By default the joint is inner joint.\n",
    "\n",
    "Syntax:\n",
    "        select table1.a1,table1.a2,........,table2.a1,table2.a2,........... from table1 inner table2 on table1.a1=table2.a1\n",
    "\n",
    "--->When should we have to use ineer joint.\n",
    "    1.there should be one common attribute in both table.\n",
    "    2.when we want to retrive the record only when it matches both sides values.\n",
    "\n",
    "1Q)Find the names of all employess and their department names?\n",
    "Sol) select employess.name,departments.department_name from employess inner join department on employess.department_id=departments.department_id;\n",
    "\n",
    "Q2)Get the names and salaries of employess who work in the 'sales' departments?\n",
    "sol) select employess.name,employess.salary from employess ineer join departments on employess.department_id=departments.department_id where departments.department_name=\"sales\";\n",
    "\n",
    "Q3)List all employess who have a salary greater than 2000 and their department name?\n",
    "Sol) select employess.name,departments.department_name from employess inner join departments on employess.department_od=departments.department_id where employess.salary>2000;\n",
    "\n",
    "Q4)Find the names of employess and their department names who are earning more than the average salary?\n",
    "Sol) select employess.name,,departments.department_name,sum(employess.salary) as sum,count(employess.name) as count from employess ineer join departmentss on employess.department_id=departments.department_id where employess.salary>(sum/count);\n",
    "\n",
    "Q5)Get a list of all employess and their departments, sorted by deprtment name?\n",
    "sol) \n",
    "Q7)List the names of employess and the number of employess in each department?\n",
    "sol) select employess.name,department\n",
    "Q8)Find the highest salary in each department.\n",
    "sol) select departments.department_name,max(employess.salary)as highest_salary from employess inner join department on employess.department_id=departments.department_id group by departments.department_name;\n",
    "Q10)find the total salary paid to employess in each department?\n",
    "sol)select departments.departments_name,sum(employess.start) as total_salary from employess inner join departments on employess.department_id=departments.department_id group by departments.department_name;\n",
    "Q10)Find employess whose salary is greater than the average salary of their department?\n",
    "Sol)select employess.name from employess inner join departments on employess.department_id=departments.department_id where employess.salary>avg(employess.salary);"
   ]
  },
  {
   "cell_type": "raw",
   "id": "53117b10-d6b5-47ed-8c60-e171716ab047",
   "metadata": {},
   "source": []
  },
  {
   "cell_type": "markdown",
   "id": "ad0566dd-73b6-4f38-a1bb-03bdc5fec473",
   "metadata": {},
   "source": [
    "### Left outer joint"
   ]
  },
  {
   "cell_type": "raw",
   "id": "7a2eb2bf-102a-44d9-82fe-0aab1edce00d",
   "metadata": {},
   "source": [
    "--->It will retrive the records where there is a matching and also retrive non-matching records from the table.\n",
    "--->When we are retriving the non matching records fromt he left table then there might be chances\n",
    "    that for that record there is no value present in the right table in that case it ill take the null value.\n",
    "\n",
    "create table department(\n",
    "        department_id int primary key,\n",
    "        department_name varchar(2550) not null,\n",
    "        department_location varchar(250)\n",
    "    );\n",
    "insert departments(department_id,department_name) values\n",
    "(101,\"hr\",\"ammerpet\"),\n",
    "(102,\"sales\",\"kphb\"),\n",
    "(103,\"accounts\",\"sr nagar\"),\n",
    "(104,\"it\",\"punjaguta\"),\n",
    "(105,\"business\",\"ashok nagar));\n",
    "\n",
    "\n",
    "create table employees(emp_id int primary key,name varchar(255) not null,department_id int,salary decimal(10,2),foreign key(department_id) references departments(department_id));\n",
    "\n",
    "insert employees(emp_id,name,department_id,salary) values \n",
    "(1,\"mahesh\",101,1000.00),\n",
    "(2,\"bharath\",102,2000.00),\n",
    "(3,\"vishnu\",null,3000.00),\n",
    "(4,\"trivikram\",104,4000.00),\n",
    "(5,\"harsha\",105,5000.00),\n",
    "(6,\"abhi\",null,6000.00),\n",
    "(7,\"akihl\",107,7000.00),\n",
    "(8,\"siva\",null,8000.00),\n",
    "(9,\"chinni\",109,9000.00),\n",
    "(10,\"rock\",1010,10000.00);             \n",
    "\n",
    "\n",
    "SYNTAX:\n",
    "        select t1.a1,t1.a2----t1.a1,t2.a2---from t1 left outer join t2 on t1.common=t2.common;\n",
    "Q1)find the employess and their departments,including the one with no departments\n",
    "->select empployess.name,deaprtments.department_name,employess.name from departments left outer join employess\n",
    "\n",
    "\n",
    "3)find the employess who do not belong to any departmetn?\n",
    "->select employess.name,employess.department_id from employess inner join departments on employess.department_id=departments.departmetn_id where \n",
    "4)list all the employess with their department location even if they no deapartment?\n",
    "5)retrive the employess who belongs to the sales department?\n",
    "\n",
    "6)list all the departments with employess, but exclude the HR employess?\n",
    "->"
   ]
  },
  {
   "cell_type": "markdown",
   "id": "0e808659-93c7-44f3-84c6-0df04fbfc5e9",
   "metadata": {},
   "source": [
    "### Right outer joint"
   ]
  },
  {
   "cell_type": "code",
   "execution_count": null,
   "id": "05521e6e-fcfd-4e4c-8128-835ad463c772",
   "metadata": {},
   "outputs": [],
   "source": []
  },
  {
   "cell_type": "markdown",
   "id": "2ebd9d86-ad69-4270-a515-18f541f39a9a",
   "metadata": {},
   "source": [
    "### Full outer joint"
   ]
  },
  {
   "cell_type": "code",
   "execution_count": null,
   "id": "a75f6b18-688f-400f-a0d5-9c187213e889",
   "metadata": {},
   "outputs": [],
   "source": []
  },
  {
   "cell_type": "code",
   "execution_count": null,
   "id": "0132aa9f-2ddf-4b33-b1af-61b096bce59c",
   "metadata": {},
   "outputs": [],
   "source": []
  }
 ],
 "metadata": {
  "kernelspec": {
   "display_name": "Python 3 (ipykernel)",
   "language": "python",
   "name": "python3"
  },
  "language_info": {
   "codemirror_mode": {
    "name": "ipython",
    "version": 3
   },
   "file_extension": ".py",
   "mimetype": "text/x-python",
   "name": "python",
   "nbconvert_exporter": "python",
   "pygments_lexer": "ipython3",
   "version": "3.12.7"
  }
 },
 "nbformat": 4,
 "nbformat_minor": 5
}
