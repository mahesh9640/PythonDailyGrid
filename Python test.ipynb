{
 "cells": [
  {
   "cell_type": "code",
   "execution_count": null,
   "id": "932dfc46-316b-47a7-9419-9cf2b2fb3250",
   "metadata": {},
   "outputs": [],
   "source": [
    "Q1. An axis-aligned rectangle is represented as a list [x1, y1, x2, y2], where (x1, y1) is the\n",
    "coordinate of its bottom-left corner, and (x2, y2) is the coordinate of its top-right corner.\n",
    "Its top and bottom edges are parallel to the X-axis, and its left and right edges are parallel\n",
    "to the Y-axis.\n",
    "Two rectangles overlap if the area of their intersection is positive. To be clear, two\n",
    "rectangles that only touch at the corner or edges do not overlap.\n",
    "Given two axis-aligned rectangles rec1 and rec2, return true if they overlap, otherwise\n",
    "return false.\n",
    " \n",
    "Example 1:\n",
    "Input: rec1 = [0,0,2,2], rec2 = [1,1,3,3]\n",
    "Output: true\n",
    "Example 2:\n",
    "Input: rec1 = [0,0,1,1], rec2 = [1,0,2,1]\n",
    "Output: false\n",
    "Example 3:\n",
    "Input: rec1 = [0,0,1,1], rec2 = [2,2,3,3]\n",
    "Output: false"
   ]
  },
  {
   "cell_type": "code",
   "execution_count": 21,
   "id": "4f1d37a2-48bc-4717-b952-48da97d08227",
   "metadata": {},
   "outputs": [
    {
     "data": {
      "text/plain": [
       "True"
      ]
     },
     "execution_count": 21,
     "metadata": {},
     "output_type": "execute_result"
    }
   ],
   "source": [
    "def isRectangleOverlap(rec1, rec2):\n",
    "    # Get the coordinates of both rectangles\n",
    "    x1_left, y1_bottom, x1_right, y1_top = rec1\n",
    "    x2_left, y2_bottom, x2_right, y2_top = rec2\n",
    "\n",
    "    # Check if one rectangle is completely to the left of the other\n",
    "    if x1_right <= x2_left or x2_right <= x1_left:\n",
    "        return False  # No overlap horizontally\n",
    "\n",
    "    # Check if one rectangle is completely above or below the other\n",
    "    if y1_top <= y2_bottom or y2_top <= y1_bottom:\n",
    "        return False  # No overlap vertically\n",
    "\n",
    "    # If none of the above are true, then the rectangles must overlap\n",
    "    return True\n",
    "isRectangleOverlap([0,0,2,2],[1,1,3,3])"
   ]
  },
  {
   "cell_type": "code",
   "execution_count": null,
   "id": "16fa0a8f-571c-48be-b58c-c9ea323348e3",
   "metadata": {},
   "outputs": [],
   "source": [
    "Q4. Shift all zeroes to the end of an array while maintaining the order of all items.\n",
    "Constraints\n",
    " The input variable arr is a list of integers.\n",
    " The length of arr can be any non-negative integer.\n",
    " The elements of arr can be any integer, positive or negative.\n",
    " There may be duplicate elements in arr.\n",
    " The order of the elements in arr should be maintained after shifting the zeroes to the end.\n",
    "Test Case #1\n",
    "Input: [4, 0, 5, 0, -3, 7, 0, 8]\n",
    "Output: [4, 5, -3, 7, 8, 0, 0, 0]\n",
    "Description: This test case includes positive and negative numbers interspersed with zeroes,\n",
    "requiring the algorithm to maintain the order while moving zeroes to the end.\n",
    "Test Case #2\n",
    "Input: [1, 0, 4, 0, 5, 0, 3, 2]\n",
    "\n",
    "Output: [1, 4, 5, 3, 2, 0, 0, 0]"
   ]
  },
  {
   "cell_type": "code",
   "execution_count": 37,
   "id": "5b9df6a1-74a2-4c41-8693-ba1a7682b355",
   "metadata": {},
   "outputs": [
    {
     "name": "stdout",
     "output_type": "stream",
     "text": [
      "[4, 5, -3, 7, 8, 0, 0, 0]\n",
      "[1, 4, 5, 3, 2, 0, 0, 0]\n"
     ]
    }
   ],
   "source": [
    "def move_zeroes_to_end(arr):\n",
    "    insert_pos = 0  # Position to place the next non-zero element\n",
    "    for num in arr:\n",
    "        if num != 0:\n",
    "            arr[insert_pos] = num       # Step 1: Move non-zero elements forward\n",
    "            insert_pos += 1\n",
    "    while insert_pos < len(arr):\n",
    "        arr[insert_pos] = 0             # Step 2: Fill the remaining positions with zeros\n",
    "        insert_pos += 1\n",
    "    return arr\n",
    "print(move_zeroes_to_end([4,0,5,0,-3,7,0,8]))\n",
    "print(move_zeroes_to_end([1,0,4,0,5,0,3,2]))"
   ]
  },
  {
   "cell_type": "code",
   "execution_count": null,
   "id": "fbb6eb47-3cf9-4b68-ad99-a8b497067f53",
   "metadata": {},
   "outputs": [],
   "source": [
    "Q5. Write a function to find the square root of all column values in a DataFrame.\n",
    "Note: The function should only compute the square root for non-negative numbers (i.e.,\n",
    "values greater than or equal to 0). If any value in the DataFrame is negative, the function\n",
    "should return None for that particular value.\n",
    "Constraints\n",
    " The input variable df must be a pandas DataFrame.\n",
    " The input variable column_name must be a string representing the name of a column in the\n",
    "DataFrame df.\n",
    "Test Case #1\n",
    "Input: {&quot;df&quot;: {&quot;A&quot;: [4, 16, 25, 36], &quot;B&quot;: [1, 4, 9, 16]}}\n",
    "Output: {&quot;A&quot;: [2, 4, 5, 6], &quot;B&quot;: [1, 2, 3, 4]}\n",
    "Description: This test case checks the function with a DataFrame containing perfect squares\n",
    "in both columns.\n",
    "Test Case #2\n",
    "Input: {&quot;df&quot;: {&quot;A&quot;: [1, 0, 9, 81], &quot;B&quot;: [1, 0, 16, 64]}}\n",
    "Output: {&quot;A&quot;: [1, 0, 3, 9], &quot;B&quot;: [1, 0, 4, 8]}\n",
    "Description: This case tests the function with columns that include 0 and perfect squares.\n",
    "Test Case #3\n",
    "Input: {&quot;df&quot;: {&quot;A&quot;: [0.25, 2.25, 6.25, 12.25], &quot;B&quot;: [0.25, 1, 2.25, 6.25]}}\n",
    "Output: {&quot;A&quot;: [0.5, 1.5, 2.5, 3.5], &quot;B&quot;: [0.5, 1, 1.5, 2.5]}\n",
    "Description: This case examines the function with columns containing floating-point values\n",
    "which are also perfect squares."
   ]
  },
  {
   "cell_type": "code",
   "execution_count": 39,
   "id": "0103a7f9-ce11-4e6b-9a82-0c0deb32fa73",
   "metadata": {},
   "outputs": [
    {
     "name": "stdout",
     "output_type": "stream",
     "text": [
      "     A   B\n",
      "0  2.0   1\n",
      "1  4.0   4\n",
      "2  5.0   9\n",
      "3  6.0  16\n",
      "    A    B\n",
      "0   1  1.0\n",
      "1   0  0.0\n",
      "2   9  4.0\n",
      "3  81  8.0\n",
      "     A     B\n",
      "0  0.5  0.25\n",
      "1  1.5  1.00\n",
      "2  2.5  2.25\n",
      "3  3.5  6.25\n"
     ]
    }
   ],
   "source": [
    "import pandas as pd\n",
    "import numpy as np\n",
    "def sqrt_column(df, column_name):\n",
    "    if column_name not in df.columns:\n",
    "        raise ValueError(f\"Column '{column_name}' not found in DataFrame.\")\n",
    "    def safe_sqrt(x):\n",
    "        return np.sqrt(x) if x >= 0 else None\n",
    "    # Apply square root function to the specified column\n",
    "    df_copy = df.copy()\n",
    "    df_copy[column_name] = df_copy[column_name].apply(safe_sqrt)\n",
    "    return df_copy\n",
    "df1 = pd.DataFrame({\"A\": [4, 16, 25, 36], \"B\": [1, 4, 9, 16]})\n",
    "print(sqrt_column(df1, \"A\"))\n",
    "df2 = pd.DataFrame({\"A\": [1, 0, 9, 81], \"B\": [1, 0, 16, 64]})\n",
    "print(sqrt_column(df2, \"B\"))\n",
    "df3 = pd.DataFrame({\"A\": [0.25, 2.25, 6.25, 12.25], \"B\": [0.25, 1, 2.25, 6.25]})\n",
    "print(sqrt_column(df3, \"A\"))\n"
   ]
  },
  {
   "cell_type": "code",
   "execution_count": null,
   "id": "2dddcf45-083a-4d8a-b1cc-7cd5845f1c80",
   "metadata": {},
   "outputs": [],
   "source": [
    "Q6. Write a function to find the median of a given list efficiently.\n",
    "Constraints\n",
    " The input variable lst is a list of integers.\n",
    "\n",
    "Test Case #1\n",
    "Input: [0, -5, 99, 3, -1, 54, -20]\n",
    "Output: 0\n",
    "Description: This test case includes a mixed list of positive and negative integers to evaluate\n",
    "the function&quot;s robustness in deciding the median in different scenarios.\n",
    "Test Case #2\n",
    "Input: [7, 3, 8, -1, 4, 0, 5, 2]\n",
    "Output: 3.5\n",
    "Description: This test case checks the function’s ability to find the median correctly in an\n",
    "even-length list containing both negative and positive integers.\n",
    "Test Case #3\n",
    "Input: [-15, -7, -3, -9, -1, -8, -2, -5, -4, -6]\n",
    "Output: -5.5\n",
    "Description: This case assesses the function&quot;s capability to handle an even-length list with\n",
    "all negative values and find the accurate median."
   ]
  },
  {
   "cell_type": "code",
   "execution_count": 41,
   "id": "7bdaf521-e392-4e1f-bd88-0250e3abdcee",
   "metadata": {},
   "outputs": [
    {
     "name": "stdout",
     "output_type": "stream",
     "text": [
      "0\n",
      "3.5\n",
      "-5.5\n"
     ]
    }
   ],
   "source": [
    "def find_median(list):\n",
    "    if not list:\n",
    "        return None  # handle empty list case\n",
    "    sorted_list = sorted(list)\n",
    "    n = len(sorted_list)\n",
    "    mid = n // 2\n",
    "    if n % 2 == 1:\n",
    "        # Odd length → return middle element\n",
    "        return sorted_list[mid]\n",
    "    else:\n",
    "        # Even length → return average of two middle elements\n",
    "        return (sorted_list[mid - 1] + sorted_list[mid]) / 2\n",
    "print(find_median([0, -5, 99, 3, -1, 54, -20]))  \n",
    "print(find_median([7, 3, 8, -1, 4, 0, 5, 2]))  \n",
    "print(find_median([-15, -7, -3, -9, -1, -8, -2, -5, -4, -6]))  \n"
   ]
  },
  {
   "cell_type": "code",
   "execution_count": null,
   "id": "62768495-2b7e-4ccd-abb9-e1462fac70e2",
   "metadata": {},
   "outputs": [],
   "source": [
    "Q7. Find common elements in 2 given lists and return all aspects even if they are\n",
    "repeated.\n",
    "Constraints\n",
    " The input variables list1 and list2 should be of type List[int].\n",
    " The input lists can have any length.\n",
    " The elements in the input lists can be repeated.\n",
    " The elements in the input lists can be in any order.\n",
    " The input lists can contain both positive and negative integers.\n",
    " The input lists can contain zero as an element.\n",
    " The input lists can be empty.\n",
    "Test Case #1\n",
    "Input: {&quot;list1&quot;: [1, 2, 2, 3, 4], &quot;list2&quot;: [2, 2, 3, 3, 4, 4]}\n",
    "Output: [2, 2, 3, 4]\n",
    "Description: This test case checks the function with two lists containing repeated integers.\n",
    "The common elements, including their repetitions, should be [2, 2, 3, 4].\n",
    "Test Case #2\n",
    "Input: {&quot;list1&quot;: [-1, -1, 0, 1, 1, 2], &quot;list2&quot;: [1, -1, 0, 0, 2, 2]}\n",
    "Output: [-1, 0, 1, 2]\n",
    "Description: The function is tested with lists containing both positive and negative integers,\n",
    "including zeros. The common elements, including their repetitions, should be [-1, 0, 1, 2]."
   ]
  },
  {
   "cell_type": "code",
   "execution_count": 53,
   "id": "eee3b164-0d45-44c2-80e1-8d96454db5c6",
   "metadata": {},
   "outputs": [
    {
     "name": "stdout",
     "output_type": "stream",
     "text": [
      "[2, 2, 3, 4]\n",
      "[-1, 0, 1, 2]\n"
     ]
    }
   ],
   "source": [
    "def find_common_elements(list1,list2):\n",
    "    freq1={}\n",
    "    for num in list1:\n",
    "        freq1[num]=freq1.get(num,0)+1\n",
    "    freq2={}\n",
    "    for num in list2:\n",
    "        freq2[num]=freq2.get(num,0)+1\n",
    "    result=[]\n",
    "    for key in freq1:\n",
    "        if key in freq2:\n",
    "            common_count=min(freq1[key],freq2[key])\n",
    "            result.extend([key]*common_count)\n",
    "    return result\n",
    "list1=[1,2,2,3,4]\n",
    "list2=[2,2,3,3,4,4]\n",
    "print(find_common_elements(list1,list2))\n",
    "list1=[-1,-1,0,1,1,2]\n",
    "list2=[1,-1,0,0,2,2]\n",
    "print(find_common_elements(list1,list2))"
   ]
  },
  {
   "cell_type": "code",
   "execution_count": null,
   "id": "f267f35e-4e15-42e6-aeaa-582da214271f",
   "metadata": {},
   "outputs": [],
   "source": [
    "\n"
   ]
  }
 ],
 "metadata": {
  "kernelspec": {
   "display_name": "Python 3 (ipykernel)",
   "language": "python",
   "name": "python3"
  },
  "language_info": {
   "codemirror_mode": {
    "name": "ipython",
    "version": 3
   },
   "file_extension": ".py",
   "mimetype": "text/x-python",
   "name": "python",
   "nbconvert_exporter": "python",
   "pygments_lexer": "ipython3",
   "version": "3.12.7"
  }
 },
 "nbformat": 4,
 "nbformat_minor": 5
}
