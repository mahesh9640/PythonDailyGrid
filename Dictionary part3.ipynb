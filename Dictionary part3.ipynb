{
 "cells": [
  {
   "cell_type": "markdown",
   "id": "ec7b733f-357e-41ae-91f3-3912fe4b518d",
   "metadata": {},
   "source": [
    "### Clear and Copy"
   ]
  },
  {
   "cell_type": "code",
   "execution_count": 104,
   "id": "c61f2d17-f91a-4986-8e3b-0bb2fbfe7612",
   "metadata": {},
   "outputs": [
    {
     "name": "stdout",
     "output_type": "stream",
     "text": [
      "{}\n",
      "{'a': 20, 'b': 30, 'c': 40, 'd': 50}\n"
     ]
    }
   ],
   "source": [
    "## Take one dictionary \n",
    "## Take second dictionary\n",
    "## copy first dictionaty into second\n",
    "## and print both\n",
    "\n",
    "d1={'a':20,'b':30,'c':40,'d':50}\n",
    "d2=d1.copy()\n",
    "d1.clear()\n",
    "print(d1)\n",
    "print(d2)"
   ]
  },
  {
   "cell_type": "markdown",
   "id": "540a003a-8dfd-451c-9a0c-ac4b47ac0c48",
   "metadata": {},
   "source": [
    "### pop and popitem and Del"
   ]
  },
  {
   "cell_type": "code",
   "execution_count": null,
   "id": "215910dd-6fb7-4287-a48d-7074b72c6a42",
   "metadata": {},
   "outputs": [],
   "source": [
    "--->What is pop\n",
    "        --->pop will remove sepcify key\n",
    "        --->return item\n",
    "--->What is popitem\n",
    "        --->it will remove the last value defaultly\n",
    "        --->return the pair\n",
    "--->What is del\n",
    "        --->del is keyword\n",
    "        --->it can delete an item by providing specific key"
   ]
  },
  {
   "cell_type": "code",
   "execution_count": 85,
   "id": "1e03ede2-fa46-45c1-ae76-b3db499b1a0c",
   "metadata": {},
   "outputs": [
    {
     "data": {
      "text/plain": [
       "{'a': 20, 'b': 30, 'c': 40, 'd': 50}"
      ]
     },
     "execution_count": 85,
     "metadata": {},
     "output_type": "execute_result"
    }
   ],
   "source": [
    "d2"
   ]
  },
  {
   "cell_type": "code",
   "execution_count": 87,
   "id": "72db6758-a2c7-49b9-a830-7eba3619fc1d",
   "metadata": {},
   "outputs": [
    {
     "data": {
      "text/plain": [
       "20"
      ]
     },
     "execution_count": 87,
     "metadata": {},
     "output_type": "execute_result"
    }
   ],
   "source": [
    "d2.pop('a')"
   ]
  },
  {
   "cell_type": "code",
   "execution_count": 89,
   "id": "e45cfea3-5b36-46e5-8a3b-3cda3d92c144",
   "metadata": {},
   "outputs": [
    {
     "data": {
      "text/plain": [
       "{'b': 30, 'c': 40, 'd': 50}"
      ]
     },
     "execution_count": 89,
     "metadata": {},
     "output_type": "execute_result"
    }
   ],
   "source": [
    "d2"
   ]
  },
  {
   "cell_type": "code",
   "execution_count": 91,
   "id": "70adafd6-eee2-4724-8089-c8c8f15b53e2",
   "metadata": {},
   "outputs": [
    {
     "data": {
      "text/plain": [
       "('d', 50)"
      ]
     },
     "execution_count": 91,
     "metadata": {},
     "output_type": "execute_result"
    }
   ],
   "source": [
    "d2.popitem()"
   ]
  },
  {
   "cell_type": "code",
   "execution_count": 93,
   "id": "d7a9dff1-fcac-4877-bf8d-711db8e83add",
   "metadata": {},
   "outputs": [
    {
     "data": {
      "text/plain": [
       "{'b': 30, 'c': 40}"
      ]
     },
     "execution_count": 93,
     "metadata": {},
     "output_type": "execute_result"
    }
   ],
   "source": [
    "d2"
   ]
  },
  {
   "cell_type": "code",
   "execution_count": null,
   "id": "b55de891-4ae7-435b-a597-b2cd4247bc9c",
   "metadata": {},
   "outputs": [],
   "source": [
    "--->here first of all del is a keyword"
   ]
  },
  {
   "cell_type": "code",
   "execution_count": null,
   "id": "903feb4c-79a3-4898-8faa-31d8e4e3ff4c",
   "metadata": {},
   "outputs": [],
   "source": [
    "del d2['c']"
   ]
  },
  {
   "cell_type": "code",
   "execution_count": 99,
   "id": "640c29f9-8ca1-40e6-acc8-29064a3d5d2d",
   "metadata": {},
   "outputs": [
    {
     "data": {
      "text/plain": [
       "{'b': 30}"
      ]
     },
     "execution_count": 99,
     "metadata": {},
     "output_type": "execute_result"
    }
   ],
   "source": [
    "d2"
   ]
  },
  {
   "cell_type": "code",
   "execution_count": 69,
   "id": "1ef633c8-0d98-4f3c-850a-261509764306",
   "metadata": {},
   "outputs": [],
   "source": [
    "l1=[20,30,40,50,60]\n",
    "del l1[2]  ## here list access by index"
   ]
  },
  {
   "cell_type": "code",
   "execution_count": 71,
   "id": "b1388f08-8284-4fe7-89c3-f700430933c8",
   "metadata": {},
   "outputs": [
    {
     "data": {
      "text/plain": [
       "[20, 30, 50, 60]"
      ]
     },
     "execution_count": 71,
     "metadata": {},
     "output_type": "execute_result"
    }
   ],
   "source": [
    "l1"
   ]
  },
  {
   "cell_type": "markdown",
   "id": "ceb61ecf-e859-4a49-86a0-c1d3034c4014",
   "metadata": {},
   "source": [
    "### From-keys and Get"
   ]
  },
  {
   "cell_type": "code",
   "execution_count": 110,
   "id": "7babc1f6-3529-4aa3-bf91-b89744e3a001",
   "metadata": {},
   "outputs": [
    {
     "data": {
      "text/plain": [
       "30"
      ]
     },
     "execution_count": 110,
     "metadata": {},
     "output_type": "execute_result"
    }
   ],
   "source": [
    "d1={'a':20,'b':30,'c':40,'d':50}\n",
    "d1.get('b')"
   ]
  },
  {
   "cell_type": "code",
   "execution_count": 112,
   "id": "9ee8d631-b3d7-4d7f-88d5-ed167c35a689",
   "metadata": {},
   "outputs": [],
   "source": [
    "d1.get('z')"
   ]
  },
  {
   "cell_type": "code",
   "execution_count": 114,
   "id": "7ecbecbd-c0cf-4f99-b53c-f15e423d7cc9",
   "metadata": {},
   "outputs": [
    {
     "ename": "KeyError",
     "evalue": "'z'",
     "output_type": "error",
     "traceback": [
      "\u001b[1;31m---------------------------------------------------------------------------\u001b[0m",
      "\u001b[1;31mKeyError\u001b[0m                                  Traceback (most recent call last)",
      "Cell \u001b[1;32mIn[114], line 1\u001b[0m\n\u001b[1;32m----> 1\u001b[0m d1[\u001b[38;5;124m'\u001b[39m\u001b[38;5;124mz\u001b[39m\u001b[38;5;124m'\u001b[39m]\n",
      "\u001b[1;31mKeyError\u001b[0m: 'z'"
     ]
    }
   ],
   "source": [
    "d1['z']"
   ]
  },
  {
   "cell_type": "code",
   "execution_count": null,
   "id": "645fd739-99e6-4968-b8ba-02ac368c5b54",
   "metadata": {},
   "outputs": [],
   "source": [
    "--->How many ways we can do\n",
    "--->what output is returning \n",
    "--->What is the difference\n",
    "--->We can access the values by providing key as index and key in get method\n",
    "--->But if the key is not present in dicitionary key as index will give key error\n",
    "--->Get method will not return anything and no error."
   ]
  },
  {
   "cell_type": "markdown",
   "id": "e4125425-d7d6-406d-a549-1dc49df46608",
   "metadata": {},
   "source": [
    "### Fromkeys"
   ]
  },
  {
   "cell_type": "code",
   "execution_count": null,
   "id": "0514c006-677b-4588-8a8a-44603b650523",
   "metadata": {},
   "outputs": [],
   "source": [
    "-->It creates a new dictionary.\n",
    "-->Create a new dictionary from the given sequence of elements.\n",
    "-->Create a new dictionary with iterable key."
   ]
  },
  {
   "cell_type": "code",
   "execution_count": 1,
   "id": "86331557-2bdf-4d2d-a891-0a486784266b",
   "metadata": {},
   "outputs": [
    {
     "data": {
      "text/plain": [
       "{'R': 25, 'a': 25, 'h': 25, 'e': 25, 'm': 25}"
      ]
     },
     "execution_count": 1,
     "metadata": {},
     "output_type": "execute_result"
    }
   ],
   "source": [
    "## Here we created the empty dicitnoary\n",
    "d2={}.fromkeys('Raheem',25)\n",
    "d2"
   ]
  },
  {
   "cell_type": "code",
   "execution_count": 13,
   "id": "9f73b53b-c5c6-4e5f-bf84-ff340e0f3f98",
   "metadata": {},
   "outputs": [
    {
     "data": {
      "text/plain": [
       "{1: 'odd', 2: 'odd', 3: 'odd'}"
      ]
     },
     "execution_count": 13,
     "metadata": {},
     "output_type": "execute_result"
    }
   ],
   "source": [
    "## suppose we provide some list\n",
    "d3={}.fromkeys([1,2,3],'odd')\n",
    "d3"
   ]
  },
  {
   "cell_type": "code",
   "execution_count": 137,
   "id": "39b844bb-1467-41f0-a47b-6a1429a6747a",
   "metadata": {},
   "outputs": [
    {
     "name": "stdout",
     "output_type": "stream",
     "text": [
      "1\n",
      "2\n",
      "3\n"
     ]
    }
   ],
   "source": [
    "for i in [1,2,3]:\n",
    "    print(i)"
   ]
  },
  {
   "cell_type": "markdown",
   "id": "7f60d869-d4e2-41c8-a0fe-24543e0c9a53",
   "metadata": {},
   "source": [
    "### Set as default"
   ]
  },
  {
   "cell_type": "code",
   "execution_count": 9,
   "id": "7dedbc5a-6cc8-41a5-88de-cbf445ee76d8",
   "metadata": {},
   "outputs": [
    {
     "data": {
      "text/plain": [
       "{1: 'odd', 2: 'odd', 3: 'odd'}"
      ]
     },
     "execution_count": 9,
     "metadata": {},
     "output_type": "execute_result"
    }
   ],
   "source": [
    "d3"
   ]
  },
  {
   "cell_type": "code",
   "execution_count": 11,
   "id": "ffd31300-0284-4191-9042-a1592175c633",
   "metadata": {},
   "outputs": [
    {
     "data": {
      "text/plain": [
       "{1: 'odd', 2: 'odd', 3: 'odd', 'nareshit': 'Ds'}"
      ]
     },
     "execution_count": 11,
     "metadata": {},
     "output_type": "execute_result"
    }
   ],
   "source": [
    "d3.setdefault('nareshit','Ds')\n",
    "d3"
   ]
  },
  {
   "cell_type": "code",
   "execution_count": 148,
   "id": "7b4172ec-af2c-4680-aeef-4ff32d98e926",
   "metadata": {},
   "outputs": [
    {
     "data": {
      "text/plain": [
       "{'nareshit': 'ds', 'city': None}"
      ]
     },
     "execution_count": 148,
     "metadata": {},
     "output_type": "execute_result"
    }
   ],
   "source": [
    "d1={}\n",
    "d1.setdefault('nareshit','ds')\n",
    "d1.setdefault('city')\n",
    "d1"
   ]
  },
  {
   "cell_type": "code",
   "execution_count": 162,
   "id": "4cb2b049-5d95-42a2-af85-f2a6ec3e746d",
   "metadata": {},
   "outputs": [
    {
     "data": {
      "text/plain": [
       "{'nareshit': 'ds', 'city': None}"
      ]
     },
     "execution_count": 162,
     "metadata": {},
     "output_type": "execute_result"
    }
   ],
   "source": [
    "### can we update value \n",
    "d1={}\n",
    "d1.setdefault('nareshit','ds')\n",
    "d1.setdefault('city')\n",
    "d1.setdefault('nareshit',['mlopss','de'])\n",
    "d1                                       ### It will not update "
   ]
  },
  {
   "cell_type": "code",
   "execution_count": 164,
   "id": "69e85c53-e7e6-4c8f-8853-d920f7ba722f",
   "metadata": {},
   "outputs": [
    {
     "data": {
      "text/plain": [
       "{'nareshit': ['ds', 'mlops', 'de'], 'city': None}"
      ]
     },
     "execution_count": 164,
     "metadata": {},
     "output_type": "execute_result"
    }
   ],
   "source": [
    "## to update the above code we have to do like\n",
    "\n",
    "d1={}\n",
    "d1.setdefault('nareshit','ds')\n",
    "d1.setdefault('city')\n",
    "d1['nareshit']=['ds','mlops','de']\n",
    "d1"
   ]
  },
  {
   "cell_type": "markdown",
   "id": "cc410581-055b-4f2f-9f67-ed9e6dd6df54",
   "metadata": {},
   "source": [
    "### Update:"
   ]
  },
  {
   "cell_type": "code",
   "execution_count": 167,
   "id": "35566fb3-a89d-4083-9494-e3447300e3eb",
   "metadata": {},
   "outputs": [
    {
     "name": "stdout",
     "output_type": "stream",
     "text": [
      "{'a': 1, 'b': 22, 'c': 3, 'd': 44}\n"
     ]
    }
   ],
   "source": [
    "d1={'a':1,'b':2,'c':3,'d':4}\n",
    "d2={'b':22,'d':44}\n",
    "d1.update(d2)\n",
    "print(d1)"
   ]
  },
  {
   "cell_type": "code",
   "execution_count": 169,
   "id": "7387fb7b-8ce1-46a8-99c2-4b1fd5d3ddda",
   "metadata": {},
   "outputs": [
    {
     "data": {
      "text/plain": [
       "[1, 2, 3, 4, 4, 6]"
      ]
     },
     "execution_count": 169,
     "metadata": {},
     "output_type": "execute_result"
    }
   ],
   "source": [
    "d1=[1,2,3,4]\n",
    "d2=[4,6]\n",
    "d1.extend(d2)\n",
    "d1"
   ]
  },
  {
   "cell_type": "code",
   "execution_count": null,
   "id": "352e22f7-bfc6-43dc-9753-d539e84e7feb",
   "metadata": {},
   "outputs": [],
   "source": [
    "Note:\n",
    "In dicitnoray duplicates are not allowed\n",
    "in list duplicates are allowed"
   ]
  },
  {
   "cell_type": "code",
   "execution_count": null,
   "id": "738408b2-4be8-45b6-8c7b-83cb70c5e427",
   "metadata": {},
   "outputs": [],
   "source": [
    "--->Update method will update a dicitionary with elements from another dictionary and it modifes the dictinoary."
   ]
  },
  {
   "cell_type": "code",
   "execution_count": null,
   "id": "263ff888-c3be-415f-b277-33a8fdd7d67c",
   "metadata": {},
   "outputs": [],
   "source": []
  }
 ],
 "metadata": {
  "kernelspec": {
   "display_name": "Python 3 (ipykernel)",
   "language": "python",
   "name": "python3"
  },
  "language_info": {
   "codemirror_mode": {
    "name": "ipython",
    "version": 3
   },
   "file_extension": ".py",
   "mimetype": "text/x-python",
   "name": "python",
   "nbconvert_exporter": "python",
   "pygments_lexer": "ipython3",
   "version": "3.12.7"
  }
 },
 "nbformat": 4,
 "nbformat_minor": 5
}
