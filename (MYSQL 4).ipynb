{
 "cells": [
  {
   "cell_type": "raw",
   "id": "dcec8e29-be9d-4d0b-ac02-c9eeefbd338b",
   "metadata": {},
   "source": [
    "4.Referential intergrity constraints:\n",
    "    \n",
    "--->It is a attribute or set of attribute or set of attribute(composite key) which referening to the primary key of same table or different table.`\n",
    "--->It is used to form the relation between toe or more table.\n",
    "--->It is used to implements refential integrity constraints.\n",
    "--->One table can have multiple foregin keys.\n",
    "--->Where is exactly the forgien key is present we called that table as referencing table.\n",
    "--->Where the primary key is present we called that table as referenced table.\n",
    "--->Forgien key and primary key can have different name.\n",
    "\n",
    "SYNTAX:\n",
    "\n",
    "create table  table_name(\n",
    "    attribute 1 data type,\n",
    "    attribute 2 data type,\n",
    "    foregin key(attribute2)---------->data type of primary key referenicing to base_table(pk)\n",
    "    );"
   ]
  },
  {
   "cell_type": "code",
   "execution_count": null,
   "id": "9e56f4ab-e084-45d6-8f0e-6fdc6843d7cb",
   "metadata": {},
   "outputs": [],
   "source": [
    "Q.) create table customer (cid int, cname VARCHAR(20), address VARCHAR(20));\n",
    "    create table ordered (order_id int,ordered_date date,cid int,total_ammount int)    "
   ]
  },
  {
   "cell_type": "code",
   "execution_count": null,
   "id": "a74aec19-e033-4268-9b9b-5f4e6d14e0e2",
   "metadata": {},
   "outputs": [],
   "source": [
    "Select:\n",
    "1.Getting the all the records:\n",
    "    select * from table_name;\n",
    "2.Retriving the particular records;\n",
    "    selct"
   ]
  },
  {
   "cell_type": "code",
   "execution_count": null,
   "id": "72de03a9-7cef-4f4e-b5ba-c5d4e6d78359",
   "metadata": {},
   "outputs": [],
   "source": [
    "emp(eid,ename,esalary,eage)\n",
    "want the all records where the employee salary is greater than the 5000 and age less than 40\n",
    "\n",
    "select * from employee where esalary>5000 and age<40;\n",
    "\n",
    "--->mysql is  a case insensitve language.\n",
    "        ename=\"mayur\"\n",
    "        where ename=\"mayur\"\n",
    "              ename=\"Mayur\"\n",
    "select * from employee where binary\n",
    "\n",
    "ename='mayur';"
   ]
  },
  {
   "cell_type": "code",
   "execution_count": null,
   "id": "b9cb3e42-53fc-40ee-baa2-765111c906e5",
   "metadata": {},
   "outputs": [],
   "source": [
    "-->alias:short name\n",
    "select eid as id, ename as name from employee;"
   ]
  },
  {
   "cell_type": "raw",
   "id": "9017414b-9f77-4b26-9265-47923560dbd4",
   "metadata": {},
   "source": [
    "Update:"
   ]
  },
  {
   "cell_type": "code",
   "execution_count": null,
   "id": "91b7856e-06c6-46ca-bd00-782a5e377cc6",
   "metadata": {},
   "outputs": [],
   "source": [
    "--->It is used to update the table name particular atrribute in the table\n",
    "syntax:\n",
    "update table_name SET attribute=\"value\"\n",
    "where condition;\n",
    "\n",
    "\n",
    "update employee set ename='newname' where eid=101;"
   ]
  },
  {
   "cell_type": "code",
   "execution_count": null,
   "id": "66e13d2e-ebf8-498b-b9b6-0adf0d191d7d",
   "metadata": {},
   "outputs": [],
   "source": [
    "4.Delete:\n",
    "        --->It is used to delete the particular record from the table.\n",
    "        --->Syntax:\n",
    "                    DELETE FROM table_name where condition;\n",
    "        --->TURNCATE will delete all the rows from the table nut it wont delete yhe structure of a table.\n",
    "        --->It will drop whole table and recreate it."
   ]
  },
  {
   "cell_type": "code",
   "execution_count": null,
   "id": "ca704c61-6886-4ea6-90f2-cf2dedbbab41",
   "metadata": {},
   "outputs": [],
   "source": [
    "create table emp1(\n",
    "    eid int primary key,\n",
    "    ename varchar(20),\n",
    "    salary decimal(10,2),\n",
    "    age int\n",
    "    );"
   ]
  },
  {
   "cell_type": "code",
   "execution_count": null,
   "id": "e9278a3b-7e55-4729-8847-19c53fb0f883",
   "metadata": {},
   "outputs": [],
   "source": []
  }
 ],
 "metadata": {
  "kernelspec": {
   "display_name": "Python 3 (ipykernel)",
   "language": "python",
   "name": "python3"
  },
  "language_info": {
   "codemirror_mode": {
    "name": "ipython",
    "version": 3
   },
   "file_extension": ".py",
   "mimetype": "text/x-python",
   "name": "python",
   "nbconvert_exporter": "python",
   "pygments_lexer": "ipython3",
   "version": "3.12.7"
  }
 },
 "nbformat": 4,
 "nbformat_minor": 5
}
