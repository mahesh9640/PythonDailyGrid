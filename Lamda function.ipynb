{
 "cells": [
  {
   "cell_type": "markdown",
   "id": "67395cf1-deea-47aa-9c76-519042fca9e8",
   "metadata": {},
   "source": [
    "### Lambda Functions\n"
   ]
  },
  {
   "cell_type": "code",
   "execution_count": null,
   "id": "68d601c9-9ef6-429b-ba4a-7c0c17612448",
   "metadata": {},
   "outputs": [],
   "source": [
    "### lambda function is nothing but Creat basic fuunction"
   ]
  },
  {
   "cell_type": "code",
   "execution_count": 37,
   "id": "6058e5f2-fb43-44a3-909a-9933f413aacc",
   "metadata": {},
   "outputs": [
    {
     "data": {
      "text/plain": [
       "15"
      ]
     },
     "execution_count": 37,
     "metadata": {},
     "output_type": "execute_result"
    }
   ],
   "source": [
    "def add(x):\n",
    "    return(x+10)\n",
    "add(5)"
   ]
  },
  {
   "cell_type": "code",
   "execution_count": 39,
   "id": "3c0d7f29-4f5d-4fc2-a423-97f4931b6d64",
   "metadata": {},
   "outputs": [
    {
     "data": {
      "text/plain": [
       "30"
      ]
     },
     "execution_count": 39,
     "metadata": {},
     "output_type": "execute_result"
    }
   ],
   "source": [
    "def add(x):\n",
    "    sum=x+10\n",
    "    return(sum)\n",
    "add(20)"
   ]
  },
  {
   "cell_type": "code",
   "execution_count": 23,
   "id": "88e6ccc3-7d4e-4219-be36-c14dbeab7157",
   "metadata": {},
   "outputs": [
    {
     "data": {
      "text/plain": [
       "40"
      ]
     },
     "execution_count": 23,
     "metadata": {},
     "output_type": "execute_result"
    }
   ],
   "source": [
    "def add(x):\n",
    "    return(x+10)\n",
    "add(30)\n",
    "\n",
    "## how many arguments are present?\n",
    "## what you are returning? x+10"
   ]
  },
  {
   "cell_type": "code",
   "execution_count": null,
   "id": "5b000a7d-9e75-492b-808c-aea49085322e",
   "metadata": {},
   "outputs": [],
   "source": [
    "Format for writing the lambda:"
   ]
  },
  {
   "cell_type": "code",
   "execution_count": 41,
   "id": "230defaa-7ea9-4913-9965-e4d49a1ae8f9",
   "metadata": {},
   "outputs": [
    {
     "data": {
      "text/plain": [
       "30"
      ]
     },
     "execution_count": 41,
     "metadata": {},
     "output_type": "execute_result"
    }
   ],
   "source": [
    "add=lambda x:x+10   ## here add mean function name\n",
    "add(20)"
   ]
  },
  {
   "cell_type": "code",
   "execution_count": 43,
   "id": "f46aabd7-094f-4075-820e-1590e8ea5e0a",
   "metadata": {},
   "outputs": [
    {
     "data": {
      "text/plain": [
       "400"
      ]
     },
     "execution_count": 43,
     "metadata": {},
     "output_type": "execute_result"
    }
   ],
   "source": [
    "square=lambda x:x*x\n",
    "square(20)"
   ]
  },
  {
   "cell_type": "code",
   "execution_count": 19,
   "id": "7dda8b8f-d6cd-4183-a311-b5c3b92f8eb4",
   "metadata": {},
   "outputs": [
    {
     "data": {
      "text/plain": [
       "216"
      ]
     },
     "execution_count": 19,
     "metadata": {},
     "output_type": "execute_result"
    }
   ],
   "source": [
    "cube=lambda x:x*x*x\n",
    "cube(6)"
   ]
  },
  {
   "cell_type": "code",
   "execution_count": 45,
   "id": "237dbcc0-7491-456a-a558-c7e3569dd93c",
   "metadata": {},
   "outputs": [
    {
     "data": {
      "text/plain": [
       "50"
      ]
     },
     "execution_count": 45,
     "metadata": {},
     "output_type": "execute_result"
    }
   ],
   "source": [
    "## now 2 arguments\n",
    "def add(x,y):\n",
    "    return(x+y)\n",
    "add(20,30)"
   ]
  },
  {
   "cell_type": "code",
   "execution_count": 25,
   "id": "70913160-08c0-4d39-ab04-c19bf015f3c5",
   "metadata": {},
   "outputs": [
    {
     "data": {
      "text/plain": [
       "50"
      ]
     },
     "execution_count": 25,
     "metadata": {},
     "output_type": "execute_result"
    }
   ],
   "source": [
    "add=lambda x,y:x+y\n",
    "add(20,30)"
   ]
  },
  {
   "cell_type": "code",
   "execution_count": 29,
   "id": "581e3ce7-3a54-4acd-b402-48826557ae13",
   "metadata": {},
   "outputs": [
    {
     "data": {
      "text/plain": [
       "600"
      ]
     },
     "execution_count": 29,
     "metadata": {},
     "output_type": "execute_result"
    }
   ],
   "source": [
    "mul=lambda x,y:x*y\n",
    "mul(20,30)"
   ]
  },
  {
   "cell_type": "code",
   "execution_count": 47,
   "id": "ec855505-46ad-4bb3-b33c-603a417ab4b3",
   "metadata": {},
   "outputs": [
    {
     "data": {
      "text/plain": [
       "23.333333333333332"
      ]
     },
     "execution_count": 47,
     "metadata": {},
     "output_type": "execute_result"
    }
   ],
   "source": [
    "### implement average of 3 numbers using lambda\n",
    "\n",
    "average=lambda x,y,z:(x+y+z)/3\n",
    "average(20,40,10)"
   ]
  },
  {
   "cell_type": "code",
   "execution_count": 45,
   "id": "2e4fb322-9535-41d3-ba07-0fd28d29e63c",
   "metadata": {},
   "outputs": [
    {
     "data": {
      "text/plain": [
       "23.333333333333332"
      ]
     },
     "execution_count": 45,
     "metadata": {},
     "output_type": "execute_result"
    }
   ],
   "source": [
    "### Implement average make c as default parameter\n",
    "\n",
    "average=lambda x,y,z=20:(x+y+z)/3\n",
    "average(20,30)"
   ]
  },
  {
   "cell_type": "markdown",
   "id": "d90708fb-36c8-46da-bd88-7dd365247283",
   "metadata": {},
   "source": [
    "### if-else"
   ]
  },
  {
   "cell_type": "code",
   "execution_count": 50,
   "id": "d696dc3f-951b-49cd-af44-c04c717c4d8d",
   "metadata": {},
   "outputs": [
    {
     "data": {
      "text/plain": [
       "30"
      ]
     },
     "execution_count": 50,
     "metadata": {},
     "output_type": "execute_result"
    }
   ],
   "source": [
    "## create a function for finding greater number between two numbers\n",
    "\n",
    "def greater_num(n1,n2):\n",
    "    if n1>n2:\n",
    "        return(n1)\n",
    "    else:\n",
    "        return(n2)\n",
    "greater_num(20,30)"
   ]
  },
  {
   "cell_type": "code",
   "execution_count": 33,
   "id": "2fbc4e66-b191-4b20-ba00-a2413d336a11",
   "metadata": {},
   "outputs": [
    {
     "data": {
      "text/plain": [
       "[200]"
      ]
     },
     "execution_count": 33,
     "metadata": {},
     "output_type": "execute_result"
    }
   ],
   "source": [
    "l1=[]\n",
    "def greater(n1,n2):\n",
    "    if n1>n2:\n",
    "        l1.append(n1)\n",
    "    else:\n",
    "        l1.append(n2)\n",
    "greater(100,200)\n",
    "l1\n"
   ]
  },
  {
   "cell_type": "code",
   "execution_count": 60,
   "id": "44886991-9eab-4a9f-b9e1-071fd0184986",
   "metadata": {},
   "outputs": [],
   "source": [
    "## To write the list comprehension for above code\n",
    "\n",
    "Syntax for writing the list comprehension for above code.\n",
    "\n",
    "l1=[<if_output> <if_con> else <else_op> <loop>]"
   ]
  },
  {
   "cell_type": "code",
   "execution_count": 35,
   "id": "7c56eda9-b2a2-4f47-ba88-ba1cebda887a",
   "metadata": {},
   "outputs": [
    {
     "data": {
      "text/plain": [
       "[8]"
      ]
     },
     "execution_count": 35,
     "metadata": {},
     "output_type": "execute_result"
    }
   ],
   "source": [
    "l1=[n1 if n1>n2 else n2]\n",
    "l1"
   ]
  },
  {
   "cell_type": "code",
   "execution_count": null,
   "id": "a489cbf8-5e65-4ca0-95a1-7af74de167e0",
   "metadata": {},
   "outputs": [],
   "source": [
    "def greater(n1,n2):\n",
    "    if n1>n2:\n",
    "        l1.append(n1)\n",
    "    else:\n",
    "        l1.append(n2)\n",
    "greater(100,200)\n",
    "\n",
    "## Format :\n",
    "## lambda <arg1>,<arg2>: <if_output> <if_con> else <else_op>"
   ]
  },
  {
   "cell_type": "code",
   "execution_count": 15,
   "id": "2bc72cec-7597-400f-9091-eeb2595c4b85",
   "metadata": {},
   "outputs": [
    {
     "data": {
      "text/plain": [
       "8"
      ]
     },
     "execution_count": 15,
     "metadata": {},
     "output_type": "execute_result"
    }
   ],
   "source": [
    "greater=lambda n1,n2: (n1 if n1>n2 else n2)\n",
    "greater(8,3)"
   ]
  },
  {
   "cell_type": "code",
   "execution_count": null,
   "id": "7042a95d-29d4-4ef1-8892-1c34fe71ec3e",
   "metadata": {},
   "outputs": [],
   "source": []
  }
 ],
 "metadata": {
  "kernelspec": {
   "display_name": "Python 3 (ipykernel)",
   "language": "python",
   "name": "python3"
  },
  "language_info": {
   "codemirror_mode": {
    "name": "ipython",
    "version": 3
   },
   "file_extension": ".py",
   "mimetype": "text/x-python",
   "name": "python",
   "nbconvert_exporter": "python",
   "pygments_lexer": "ipython3",
   "version": "3.12.7"
  }
 },
 "nbformat": 4,
 "nbformat_minor": 5
}
