{
 "cells": [
  {
   "cell_type": "code",
   "execution_count": null,
   "id": "6f5553b9-b931-4dcb-a5c6-553033e69959",
   "metadata": {},
   "outputs": [],
   "source": [
    "## These is using append and list comprehension"
   ]
  },
  {
   "cell_type": "code",
   "execution_count": 97,
   "id": "4bb0b4d5-c2c1-4f8b-9428-78e388c4f747",
   "metadata": {},
   "outputs": [
    {
     "data": {
      "text/plain": [
       "['Hyd', 'Bengaluru', 'Delhi']"
      ]
     },
     "execution_count": 97,
     "metadata": {},
     "output_type": "execute_result"
    }
   ],
   "source": [
    "list1=['hyd','bengaluru','delhi']\n",
    "output=[]\n",
    "for i in list1:\n",
    "    output.append(i.capitalize())\n",
    "output"
   ]
  },
  {
   "cell_type": "code",
   "execution_count": null,
   "id": "09b9e5aa-c52b-4405-b39d-9e15f47b67ea",
   "metadata": {},
   "outputs": [],
   "source": [
    "### these is using list comprehension"
   ]
  },
  {
   "cell_type": "code",
   "execution_count": 99,
   "id": "47092aba-8927-4521-8c49-37da95824eff",
   "metadata": {},
   "outputs": [
    {
     "data": {
      "text/plain": [
       "['Hyd', 'Bengaluru', 'Delhi']"
      ]
     },
     "execution_count": 99,
     "metadata": {},
     "output_type": "execute_result"
    }
   ],
   "source": [
    "output1=[i.capitalize() for i in list1]\n",
    "output1"
   ]
  },
  {
   "cell_type": "code",
   "execution_count": null,
   "id": "2b4f2fea-fdb5-4bb2-8607-9706be4ab78b",
   "metadata": {},
   "outputs": [],
   "source": [
    "--->Now we are doing with the lambda function:"
   ]
  },
  {
   "cell_type": "code",
   "execution_count": null,
   "id": "c7549679-f406-4106-8cf6-b91ed7216c5a",
   "metadata": {},
   "outputs": [],
   "source": [
    "lambda <arguments>: <output> "
   ]
  },
  {
   "cell_type": "code",
   "execution_count": null,
   "id": "c50a2c57-75bd-49ea-92eb-81bd8ae29e42",
   "metadata": {},
   "outputs": [],
   "source": [
    "## Whenever you use iterations \n",
    "\n",
    "## iterator: some thing can be iterable which means  you can print using forloop.\n",
    "\n",
    "## list,string,tuple,dictionary---->here this all are iterations"
   ]
  },
  {
   "cell_type": "code",
   "execution_count": null,
   "id": "df1fb017-9f86-4b32-8ac2-f628a7618dbe",
   "metadata": {},
   "outputs": [],
   "source": [
    "--->So whenever you are taking from the iterator --->iterator might be list --->iterator might be string\n",
    "\n",
    "## Then you should modife the string \n",
    "\n",
    "lambda <arguments>: <output>,<iterator>\n",
    "\n",
    "[i.capitalize() for i in list1]"
   ]
  },
  {
   "cell_type": "code",
   "execution_count": 9,
   "id": "198e49bf-1c57-4924-80f5-aa519954f566",
   "metadata": {},
   "outputs": [
    {
     "data": {
      "text/plain": [
       "(<function __main__.<lambda>(i)>, ['hyd', 'chennai', 'mumbai'])"
      ]
     },
     "execution_count": 9,
     "metadata": {},
     "output_type": "execute_result"
    }
   ],
   "source": [
    "list1=['hyd','chennai','mumbai']\n",
    "lambda i:i.capitalize(),list1"
   ]
  },
  {
   "cell_type": "code",
   "execution_count": null,
   "id": "9eef4c3b-269c-4731-8f0e-bb3aa3397ea3",
   "metadata": {},
   "outputs": [],
   "source": [
    "--->Next thing is map input and output"
   ]
  },
  {
   "cell_type": "code",
   "execution_count": 11,
   "id": "7c6edf71-bd51-46d3-ab25-aa6ddee00782",
   "metadata": {},
   "outputs": [
    {
     "data": {
      "text/plain": [
       "<map at 0x201d1abf190>"
      ]
     },
     "execution_count": 11,
     "metadata": {},
     "output_type": "execute_result"
    }
   ],
   "source": [
    "list1=['hyd','chennai','mumbai']\n",
    "map(lambda i:i.capitalize(),list1)"
   ]
  },
  {
   "cell_type": "code",
   "execution_count": null,
   "id": "a97b472e-530a-4fb1-9722-49b89a3b2f8e",
   "metadata": {},
   "outputs": [],
   "source": [
    "-->store the ouput "
   ]
  },
  {
   "cell_type": "code",
   "execution_count": 13,
   "id": "ba52da53-4f4f-412d-b0f6-958398c14c25",
   "metadata": {},
   "outputs": [
    {
     "data": {
      "text/plain": [
       "['Hyd', 'Chennai', 'Mumbai']"
      ]
     },
     "execution_count": 13,
     "metadata": {},
     "output_type": "execute_result"
    }
   ],
   "source": [
    "list(map(lambda i:i.capitalize(),list1))"
   ]
  },
  {
   "cell_type": "code",
   "execution_count": null,
   "id": "c31cf987-25e1-4756-aded-21717e4908f9",
   "metadata": {},
   "outputs": [],
   "source": [
    "--->First make a lambda function.\n",
    "--->Second add your iterator.\n",
    "--->Map both function and iterator.\n",
    "--->Save the result in a list."
   ]
  },
  {
   "cell_type": "code",
   "execution_count": 15,
   "id": "1266e576-92fd-40d9-82d7-bed0c7d83e57",
   "metadata": {},
   "outputs": [
    {
     "data": {
      "text/plain": [
       "['Hyd', 'Chennai', 'Mumbai']"
      ]
     },
     "execution_count": 15,
     "metadata": {},
     "output_type": "execute_result"
    }
   ],
   "source": [
    "list1=['hyd','chennai','mumbai']\n",
    "lambda i:i.capitalize(),list1\n",
    "map(lambda i:i.capitalize(),list1)  ## after mapping we ahve to store in the list\n",
    "list(map(lambda i:i.capitalize(),list1))"
   ]
  },
  {
   "cell_type": "code",
   "execution_count": 29,
   "id": "fdeb0a4a-7d15-4f89-b577-0f9c64870202",
   "metadata": {},
   "outputs": [
    {
     "data": {
      "text/plain": [
       "[1, 4, 9, 16, 25]"
      ]
     },
     "execution_count": 29,
     "metadata": {},
     "output_type": "execute_result"
    }
   ],
   "source": [
    "list1=[1,2,3,4,5]\n",
    "list2=[]\n",
    "for i in list1:\n",
    "    list2.append(i*i)\n",
    "list2"
   ]
  },
  {
   "cell_type": "code",
   "execution_count": 31,
   "id": "1dd3641a-92f3-4b33-99c6-b08dd46feb56",
   "metadata": {},
   "outputs": [
    {
     "data": {
      "text/plain": [
       "[1, 4, 9, 16, 25]"
      ]
     },
     "execution_count": 31,
     "metadata": {},
     "output_type": "execute_result"
    }
   ],
   "source": [
    "list1=[1,2,3,4,5]\n",
    "lambda i:i*i,list1\n",
    "map(lambda i:i*i,list1)\n",
    "list(map(lambda i:i*i,list1))"
   ]
  },
  {
   "cell_type": "code",
   "execution_count": 39,
   "id": "71dff5e9-e199-4f71-bf33-3c63412d406c",
   "metadata": {},
   "outputs": [
    {
     "name": "stdout",
     "output_type": "stream",
     "text": [
      "12\n",
      "24\n",
      "36\n"
     ]
    }
   ],
   "source": [
    "list1=[1,2,3]\n",
    "list2=[11,22,33]\n",
    "for i,j in zip(list1,list2):\n",
    "    print(i+j)"
   ]
  },
  {
   "cell_type": "code",
   "execution_count": 91,
   "id": "08f1a4ae-9a2c-4092-bd70-12bc73b0cd0c",
   "metadata": {},
   "outputs": [
    {
     "data": {
      "text/plain": [
       "[12, 24, 36]"
      ]
     },
     "execution_count": 91,
     "metadata": {},
     "output_type": "execute_result"
    }
   ],
   "source": [
    "list1=[1,2,3]\n",
    "list2=[11,22,33]\n",
    "lambda i,j:i+j,list1+list2\n",
    "map(lambda i,j:i+j,list1+list2)\n",
    "list(map(lambda i,j:i+j,list1,list2))"
   ]
  },
  {
   "cell_type": "code",
   "execution_count": 49,
   "id": "a1792a29-be90-4957-8424-ac0376e3733e",
   "metadata": {},
   "outputs": [
    {
     "data": {
      "text/plain": [
       "['h#d', 'mumb#i']"
      ]
     },
     "execution_count": 49,
     "metadata": {},
     "output_type": "execute_result"
    }
   ],
   "source": [
    "list1=['h#d','mumb#i','chennai']\n",
    "output=[]\n",
    "for i in list1:\n",
    "    if '#' in i:\n",
    "        output.append(i)\n",
    "output\n",
    "\n"
   ]
  },
  {
   "cell_type": "code",
   "execution_count": null,
   "id": "267a0a0b-7f2f-40cc-841f-e6faadbbbe48",
   "metadata": {},
   "outputs": [],
   "source": [
    "### list comprehension for above code."
   ]
  },
  {
   "cell_type": "code",
   "execution_count": 53,
   "id": "29cccd30-74a5-40b8-8dc6-2b6ba09ed696",
   "metadata": {},
   "outputs": [
    {
     "data": {
      "text/plain": [
       "['h#d', 'mumb#i']"
      ]
     },
     "execution_count": 53,
     "metadata": {},
     "output_type": "execute_result"
    }
   ],
   "source": [
    "output=[i for i in list1 if '#' in i]\n",
    "output"
   ]
  },
  {
   "cell_type": "code",
   "execution_count": null,
   "id": "c140f025-bb22-48ee-b6f8-49bc74c01b1b",
   "metadata": {},
   "outputs": [],
   "source": [
    "### now by using lambda\n",
    "\n",
    "# lambda <argument>:<condition>:<iterator>"
   ]
  },
  {
   "cell_type": "code",
   "execution_count": 59,
   "id": "fe6a4bc5-e5e0-43fa-be8e-483e1c2d375c",
   "metadata": {},
   "outputs": [
    {
     "data": {
      "text/plain": [
       "[True, True, False]"
      ]
     },
     "execution_count": 59,
     "metadata": {},
     "output_type": "execute_result"
    }
   ],
   "source": [
    "list1=['h#d','mumb#i','chennai']\n",
    "list(map(lambda i:'#' in i,list1))\n",
    "\n",
    "## condition is mapping to list of items"
   ]
  },
  {
   "cell_type": "code",
   "execution_count": 65,
   "id": "21010f05-0d49-45e6-9b5d-3e8b20010b83",
   "metadata": {},
   "outputs": [
    {
     "data": {
      "text/plain": [
       "['h#d', 'mumb#i']"
      ]
     },
     "execution_count": 65,
     "metadata": {},
     "output_type": "execute_result"
    }
   ],
   "source": [
    "## now inorder to get the output insted of unsing \"map\" we have to use the \"filiter\"\n",
    "\n",
    "list1=['h#d','mumb#i','chennai']\n",
    "list(filter(lambda i:'#' in i, list1))"
   ]
  },
  {
   "cell_type": "code",
   "execution_count": null,
   "id": "f5de6d6e-213e-430d-bfeb-974b5e68ca05",
   "metadata": {},
   "outputs": [],
   "source": [
    "## How to connect chat gpt through python"
   ]
  }
 ],
 "metadata": {
  "kernelspec": {
   "display_name": "Python 3 (ipykernel)",
   "language": "python",
   "name": "python3"
  },
  "language_info": {
   "codemirror_mode": {
    "name": "ipython",
    "version": 3
   },
   "file_extension": ".py",
   "mimetype": "text/x-python",
   "name": "python",
   "nbconvert_exporter": "python",
   "pygments_lexer": "ipython3",
   "version": "3.12.7"
  }
 },
 "nbformat": 4,
 "nbformat_minor": 5
}
