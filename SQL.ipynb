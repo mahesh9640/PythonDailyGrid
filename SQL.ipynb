{
 "cells": [
  {
   "cell_type": "code",
   "execution_count": null,
   "id": "4efd9a93-f755-4dde-97db-f701a5842648",
   "metadata": {},
   "outputs": [],
   "source": [
    "Data:\n",
    "        --->Data can be fact that we can record or store\n",
    "        EX: Text data:name,address etc.\n",
    "            numbers:phone number,salary etc.\n",
    "            1.When it created\n",
    "            2.Size\n",
    "            3.Pixel\n",
    "            4.Public or private\n",
    "            5.Comments\n",
    "            6.How many views\n",
    "        ---> Data is nothing but the property of the particular events.\n",
    "            ex: Audio data , image data.\n",
    "        --->we are string the data inside the files or database which are stored inside the memory.\n",
    "        --->Based on the structure data it is classifed into three types.\n",
    "            1.strucutred data\n",
    "            2.unstrucutred data\n",
    "            3.semi-strucutred data"
   ]
  },
  {
   "cell_type": "markdown",
   "id": "84182dde-6eb7-4cd2-be06-262a955c0cbc",
   "metadata": {},
   "source": [
    "### Structured data:"
   ]
  },
  {
   "cell_type": "code",
   "execution_count": null,
   "id": "74de0cbe-f04d-4ad4-8efe-c7c731068a43",
   "metadata": {},
   "outputs": [],
   "source": [
    "Data which is having some predefined structured data.\n",
    "\n",
    "                        -->Tabular---table---rows and columns \n",
    "                        -->Tabular data we called it table\n",
    "                        -->Table---Relation\n",
    "                            \n",
    "Entity: Any physical object which has attributes(properties)\n",
    "                        -->Entities are getting converted into the table.\n",
    "                            Ex: Database records,spread sheet \n",
    "                                field---------------->Each data inside the row\n",
    "                                record/tuple--------->Each row\n",
    "                                attributes----------->Files.\n",
    "                        --> Collections of fields------>Records\n",
    "                            collections of records------->files\n",
    "                            collections of files--------->ds\n",
    "                            collections of ds------------>Data warehouse."
   ]
  },
  {
   "cell_type": "markdown",
   "id": "418da294-12c6-4a69-8576-e2b59c4b0f4e",
   "metadata": {},
   "source": [
    "### Unstrutured data"
   ]
  },
  {
   "cell_type": "code",
   "execution_count": null,
   "id": "eea77e3c-0af9-48f5-9409-a5bef3e361ba",
   "metadata": {},
   "outputs": [],
   "source": [
    "--->It dont have any predefined structure.\n",
    "    ex:images,audio,videos etc.\n",
    "--->Blob\n",
    "1.We can store the unstructerd and semistrucutre data in a relation database\n",
    "    a.stored the binary file.\n",
    "    b.metadata:data about data.\n",
    "        video----> type,size,name but audio, video file will be sotre in the system or any storage."
   ]
  },
  {
   "cell_type": "markdown",
   "id": "f30dbaaa-6575-4a0e-83aa-997e114ba828",
   "metadata": {},
   "source": [
    "### Semi-structured data:\n",
    "                "
   ]
  },
  {
   "cell_type": "code",
   "execution_count": null,
   "id": "875ea5d0-9071-4c78-9fdb-482b5121b82b",
   "metadata": {},
   "outputs": [],
   "source": [
    "--->It dont have any strucutre like a structured data but it will stored by defining the properties.\n",
    "--->There are two ways of definging the property\n",
    "    JSON: javascript object \n",
    "    NOTATION: Key, Value pair\n",
    "\n",
    "            Ex:\n",
    "                {\n",
    "                    \"name\":\"mahesh\"\n",
    "                    \"rollno\":101\n",
    "                }\n",
    "--->API : Application program interface\n",
    "            If we are giving the proper input to th API it will dive the result in JSON format.\n",
    "            EX: e-mail\n",
    "--->XML : Xtensible markup language.\n",
    "---> In XML we are using the user defined tags."
   ]
  },
  {
   "cell_type": "markdown",
   "id": "5178408c-3d80-4185-bb84-48a19b1bb927",
   "metadata": {},
   "source": [
    "### Databse:"
   ]
  },
  {
   "cell_type": "code",
   "execution_count": null,
   "id": "c2b52f3f-b2d6-48c9-aac2-ba74fb09ced5",
   "metadata": {},
   "outputs": [],
   "source": [
    "--->Collection of related data.\n",
    "--->Database is getting stored in secondary storage.\n",
    "--->There are different kinds of database.\n",
    "--->We are using the database to stored the data\n",
    "    1.Traditional database:text,number\n",
    "    2.Multimedia database: images,audio,video\n",
    "    3.Dataware--->It will contains the historical data\n",
    "    4.GIS-------->Geographical information system\n",
    "    5.Data center "
   ]
  },
  {
   "cell_type": "markdown",
   "id": "b379e4a9-247e-4f3d-95c3-f59e79a0e1d0",
   "metadata": {},
   "source": [
    "### DBMS"
   ]
  },
  {
   "cell_type": "code",
   "execution_count": null,
   "id": "d02e3e16-498b-45cb-9556-eb93e06ac46d",
   "metadata": {},
   "outputs": [],
   "source": [
    "---> Datat base management system is a software to perform the operation on the databases.\n",
    "---> Database--- collection related data.\n",
    "---> Relational data base management system: Everyting will be stored in the form of table.\n",
    "--->To deal with relational databsse we required the RDBMS.(Relational data base management system)\n",
    "\n",
    "        ---->Relational Database:\n",
    "                                *** ms sql server\n",
    "                                *** Mysql\n",
    "                                *** oracle\n",
    "                                *** DB2\n",
    "NON-RELATIONAL DATA-BASE:---->Every data will be stored in the table.\n",
    "            Ex: NOSQL--MONGODB\n",
    "                CASSANDRA\n",
    "                HABSE\n",
    "                CAUSH DB"
   ]
  },
  {
   "cell_type": "markdown",
   "id": "cc61a126-a554-4beb-9c65-10fe7170a742",
   "metadata": {},
   "source": [
    "### Data Base architecture1"
   ]
  },
  {
   "cell_type": "code",
   "execution_count": null,
   "id": "1f31ad60-686e-400e-9266-25c6e895b8bf",
   "metadata": {},
   "outputs": [],
   "source": [
    "--->1 Tier architecutre.\n",
    "--->2 Tier architecutre.\n",
    "--->3 Tier architecutre."
   ]
  },
  {
   "cell_type": "markdown",
   "id": "6c10c3f6-6f37-4d3d-8bef-211f255a4d26",
   "metadata": {},
   "source": [
    "### 1 Tier Architecutre:"
   ]
  },
  {
   "cell_type": "code",
   "execution_count": null,
   "id": "988a046b-9e9d-4f79-ac70-59b6945c3b19",
   "metadata": {},
   "outputs": [],
   "source": [
    "--->Client or application and database will present on the same system.\n",
    "--->Single user"
   ]
  },
  {
   "cell_type": "markdown",
   "id": "8dd3737e-e10d-4f97-bcc0-bbba2ffc912f",
   "metadata": {},
   "source": [
    "### 2 Tier Architecture:"
   ]
  },
  {
   "cell_type": "code",
   "execution_count": null,
   "id": "cc1603d9-96bd-4e21-a7f5-0bd587aab6cd",
   "metadata": {},
   "outputs": [],
   "source": [
    "---> it follows Client server architecutr.\n",
    "---> Client is having the interface.\n",
    "---> Database---->Database server.\n",
    "Here there is a problem\n",
    "1.Client is directly interacting means it may leads to database.\n",
    "2.Scalabillity issue.                                                                                                                ]"
   ]
  },
  {
   "cell_type": "markdown",
   "id": "0f9bcc3f-65b5-4a7f-a1cc-9e29dcde66d8",
   "metadata": {},
   "source": [
    "### 3 Tier Architecture:"
   ]
  },
  {
   "cell_type": "raw",
   "id": "9f7f3c3b-db4b-459f-a403-a0cb1ea6545e",
   "metadata": {},
   "source": [
    "-> 1----client or interface\n",
    "-> 2----application layer\n",
    "-> 3----database server\n",
    "---> Client or interface is sending request to the application layer and application layer is coomunicating with the database is performing the               operation and give it back to the application layer and application layer is giving to the client.\n",
    "            -->Due to this there is no scalabillity problem and no load applied on the database."
   ]
  },
  {
   "cell_type": "markdown",
   "id": "854adf6a-b432-4422-b5cb-4e00ba4ba326",
   "metadata": {},
   "source": [
    "### Data base terminologies:"
   ]
  },
  {
   "cell_type": "raw",
   "id": "67c9171e-5ef3-4e5b-a7e0-b045ef9e5ecf",
   "metadata": {},
   "source": [
    "  -->Table----Relation\n",
    "  -->row------Tuple\n",
    "  -->column---attribute\n",
    "\n",
    "\n",
    "   --->DATA BASE SCHEMA:\n",
    "                 ---> Schema is refers to the overall design of the database.\n",
    "                 ---> Blueprint of the database.\n",
    "                            --->Schema will contains:\n",
    "                                        --->Tables----------->Relation\n",
    "                                        --->Rows and columns->Tuples and Attributes\n",
    "                                        --->datatypes-------->What type data\n",
    "                                        --->constraints------>data integrity\n",
    "                                        --->primary keys----->uniquelly identify the attribute\n",
    "                                        --->foreign key------>it is used to link the table\n",
    "                                        --->triggers--------->pre-defined code which is ececuted\n",
    "                                        --->stored producers->in the database"
   ]
  },
  {
   "cell_type": "markdown",
   "id": "835cd954-71c4-42a4-847c-01ea687751dd",
   "metadata": {},
   "source": [
    "### Data Models:"
   ]
  },
  {
   "cell_type": "code",
   "execution_count": null,
   "id": "d5a3f844-ece8-4a07-806a-4203a05464c9",
   "metadata": {},
   "outputs": [],
   "source": [
    "---> Views of data bases.\n",
    "     1.High level or conceptual view.\n",
    "            --->ER diagram (entity relationship daigram)\n",
    "     2.Representational view.\n",
    "            ---> We are deciding the data type\n",
    "            ---> We are deciding the relations between tables\n",
    "     3.Physical view.\n",
    "            ---> Physical the tables will stored in the form of bytes"
   ]
  },
  {
   "cell_type": "code",
   "execution_count": null,
   "id": "0475d44a-9abf-4d15-b7e0-827203e9aa0b",
   "metadata": {},
   "outputs": [],
   "source": [
    "--->DBMS provides us the interface through which we can communicate with the databse.\n",
    "--->DBMS will provide the language which we called it as database language,\n",
    "--->Name of that language is SQL or SEQL\n",
    "--->SQL: Structured query language.\n",
    "--->Declarative programming (only telling what to do)\n",
    "--->SQL: simple english query language.\n",
    "---> Declarative programming(Only telling what to do but not how to do)\n",
    "--->SQL is the langugae for all the telational database mysql, ma sql, server, oracle etc."
   ]
  },
  {
   "cell_type": "code",
   "execution_count": null,
   "id": "a06824fc-d2a8-4df2-bd33-cce1339185c0",
   "metadata": {},
   "outputs": [],
   "source": [
    "--->How the qyery is getting excuted?\n",
    "    1.parsing the qyery--->There is no syntex error.\n",
    "    2.query optimizer : it will find out the best way to execute that query and make execution plan.\n",
    "    3.passing this execution plam to the DB engine is executing that query according to that execution paln"
   ]
  },
  {
   "cell_type": "code",
   "execution_count": null,
   "id": "dff7921f-596b-4949-882b-80ea246c3d55",
   "metadata": {},
   "outputs": [],
   "source": [
    "what SQL will do?\n",
    "\n",
    "Inserting, updating deleteing the data etc.\n",
    "-->Based on the operation sql are classifed into variuos sub-language.\n",
    "    1.DDL: Data defination language"
   ]
  },
  {
   "cell_type": "markdown",
   "id": "dbd5fb88-44f5-44b0-a819-a6804c8d64c1",
   "metadata": {},
   "source": [
    "## DDL"
   ]
  },
  {
   "cell_type": "code",
   "execution_count": null,
   "id": "48850752-1149-4eb3-ac07-a921b180e0fd",
   "metadata": {},
   "outputs": [],
   "source": [
    "-->Commands in DDL:\n",
    "     CREATE DATABASE\n",
    "     CREATE TABLE\n",
    "     ALTER TABLE\n",
    "     DROP DATABASE\n",
    "     DROP TABLE\n",
    "     CREATE VIEWS\n",
    "     CREATE TRIGGER\n",
    "     CREATE FUNCTIONS\n",
    "     CREATE PROCEDURE"
   ]
  },
  {
   "cell_type": "markdown",
   "id": "ef0ca84e-8faf-4138-867b-e526a9592da9",
   "metadata": {},
   "source": [
    "### DML: DATA MANIPULATION LANGUAGE"
   ]
  },
  {
   "cell_type": "code",
   "execution_count": null,
   "id": "7b803cca-50f7-4cf3-aff8-ba701682e9bc",
   "metadata": {},
   "outputs": [],
   "source": [
    "INSERT\n",
    "UPDATE\n",
    "DELETE\n",
    "TRUNACATE\n",
    "MODIFY\n",
    "RENAME"
   ]
  },
  {
   "cell_type": "code",
   "execution_count": null,
   "id": "4f7c4eb1-255d-4481-9267-b7c49be81b09",
   "metadata": {},
   "outputs": [],
   "source": []
  },
  {
   "cell_type": "markdown",
   "id": "32112f15-c5b7-41d2-9589-55ce0297baa9",
   "metadata": {},
   "source": [
    "### DCL DATA QUERY LANGUAGE"
   ]
  },
  {
   "cell_type": "code",
   "execution_count": null,
   "id": "6659899f-6b5a-40b1-a841-7fcaab49ef57",
   "metadata": {},
   "outputs": [],
   "source": [
    "GARNT \n",
    "REVOKE"
   ]
  },
  {
   "cell_type": "markdown",
   "id": "d3f282a1-b6c4-43aa-883e-6ed13cf0e9cc",
   "metadata": {},
   "source": [
    "### TCL TARNSSACTION CONTRIL LANGUAGE"
   ]
  },
  {
   "cell_type": "code",
   "execution_count": null,
   "id": "3187eb58-14b1-4894-bb1d-04bbf29b8d66",
   "metadata": {},
   "outputs": [],
   "source": [
    "COMMIT\n",
    "ROLLBACK"
   ]
  }
 ],
 "metadata": {
  "kernelspec": {
   "display_name": "Python 3 (ipykernel)",
   "language": "python",
   "name": "python3"
  },
  "language_info": {
   "codemirror_mode": {
    "name": "ipython",
    "version": 3
   },
   "file_extension": ".py",
   "mimetype": "text/x-python",
   "name": "python",
   "nbconvert_exporter": "python",
   "pygments_lexer": "ipython3",
   "version": "3.12.7"
  }
 },
 "nbformat": 4,
 "nbformat_minor": 5
}
