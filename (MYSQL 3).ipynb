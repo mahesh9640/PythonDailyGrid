{
 "cells": [
  {
   "cell_type": "markdown",
   "id": "cbdf2f8f-896f-4cd4-bf4b-69e0a4a573fb",
   "metadata": {},
   "source": [
    "### Data types in MYSQL:"
   ]
  },
  {
   "cell_type": "raw",
   "id": "b5eedf04-0065-4940-acdc-ecb8a765653f",
   "metadata": {},
   "source": [
    " --->Data types will specify the type of the attributes.\n",
    "                1.Numeric data type:\n",
    "                    --->It will take the numerical values such as a interger,floating point number and fixed point decimal number.\n",
    "                                \n",
    "                    --->Integer: +ve/-ve dont have fractional point.\n",
    "                                \n",
    "                    --->Floating point number: Floating point number will be store in the form of sign but,significant bit and exponent bit.(IEEE 714)\n",
    "                                        Ex: 3.124\n",
    "                                        Ex:10.75-->How exactly it is stored in memory?\n",
    "\n",
    "                                    --->Interger datatype:\n",
    "                                                            1.TINYINT: --->It will store very small integer value.\n",
    "                                                                       --->Signed----(-128 to +128)\n",
    "                                                                       --->unsigned(0 to 255)\n",
    "                                                            2.SMALLINT:\n",
    "                                                                        --->It will store small integer values.\n",
    "                                                                        --->Signed -(-32768 to +32767)\n",
    "                                                                        --->Unsigned -(0 to 65535)\n",
    "                                                            3.INT:\n",
    "                                                                        --->It will store the integer value\n",
    "                                                                            MEDIUM INT\n",
    "                                                                            BIGINT\n",
    "                                     --->Floating datatype: \n",
    "                                                            FLOAT: It will take floating point number\n",
    "                                                                    --->In case float the precision will be 8 digits (Here precision means fractional                                                                            numbers after decimal point)\n",
    "                                                            DOUBLE: For DOUBLE we have precesion will be 15 to 16 digits\n",
    "                                                            Decimal: It will used to store the fixed point decimal number.\n",
    "                                                                    --->Price DECIMAL(10,2) after decimal there will be only two digits.\n",
    "                2.DATE AND TIME DATA TYPE:\n",
    "                        1.DATE: It will store a date  YYYY:MM:DD \n",
    "                        2.DATE TIME: It will store data and time  YYYY:MM:DD  HH:MM:SS\n",
    "                        3.TIME STAMP: It will store the time based on UTC.\n",
    "                                        --->It will automatically updated based on the current time.\n",
    "                        4.TIME:\n",
    "                                HH:MM:SS\n",
    "                        5.YEAR:\n",
    "                                YYYY\n",
    "                3.STRING DATATYPE: \n",
    "                        1.CHAR:\n",
    "                                --->It is used to stores the character data\n",
    "                                --->It is fixed length\n",
    "                                --->Once we specifies the length it will occupy that\n",
    "                                --->Syntax: Item CHAR(10)\n",
    "                                --->Better to use when we know the length of the string instead of wasting of the memory\n",
    "                        2.VARCHAR:\n",
    "                                --->It is also storing the string\n",
    "                                --->It is variable length\n",
    "                                --->Memory allocation of the string is getting changes depending upon the length of the string.\n",
    "                                --->Syntax: ename VARCHAR(10)\n",
    "                                --->Memory efficient as compare to char"
   ]
  },
  {
   "cell_type": "markdown",
   "id": "ee5fe086-5e5a-4156-97ec-27089b4164ad",
   "metadata": {},
   "source": [
    "### DATABASE CONSTRAINTS:"
   ]
  },
  {
   "cell_type": "code",
   "execution_count": null,
   "id": "45318b12-37c9-4e7a-ab14-36d2b1e29794",
   "metadata": {},
   "outputs": [],
   "source": [
    "1.NOT NULL:\n",
    "    --->Attributes will not take the null value.\n",
    "2.DEFAULT:\n",
    "    --->It will set the default value.\n",
    "3.UNIQU:\n",
    "    --->It will store only unique values for the attributes.\n",
    "    --->Table can have multiple unique key.\n",
    "    --->Unique can take null values.\n",
    "    --->In myaql we have any number of null values in unique key. While in other database there can only one null value can be allowed for unique key.\n",
    "        Ex:email\n",
    "4.CHECK:\n",
    "    --->Restricting to the value should true based on the condition.\n",
    "5.PRIMARY KEY:\n",
    "    --->It should be unique AND NOT NULL.\n",
    "6.AUTOINCREMENT:\n",
    "    --->It will automatically generates the unique values when the record is inserted into the table.\n",
    "    --->It primarily for primary key.\n",
    "    --->eid INT AUTO_INCREMENT PRIMARY KEY\n",
    "7.ENUM:\n",
    "    --->It defines the attribute by the value from the list of value.\n",
    "create table emp(\n",
    "    eid int primary key,\n",
    "    gender ENUM(\"male\",\"female\",\"other\")not null);"
   ]
  },
  {
   "cell_type": "code",
   "execution_count": null,
   "id": "2897528f-24aa-4de6-943f-b5aad8707c77",
   "metadata": {},
   "outputs": [],
   "source": [
    "q)Create a table \n",
    "    frist name---varchar\n",
    "second name---optional\n",
    "lastname---varchar\n",
    "pid----int----primary key\n",
    "dob---date\n",
    "gender----enum\n",
    "martialstatus----enum\n",
    "\n",
    "\n",
    "\n",
    "CREATE TABLE person(fisrt_name VARCHAR(20) NOT NULL,second_name VARCHAR(20),last_name VARCHAR(20) NOT NULL,DOB DATE,age INT,CHECK(age<=100),gender ENUM(\"MALE\",\"FEMALE\",\"OTHER\") NOT NULL,\n",
    "martial_status ENUM(\"MARRIED\",\"NOT MARRIED\") NOT NULL);"
   ]
  },
  {
   "cell_type": "code",
   "execution_count": null,
   "id": "dedfd854-9e51-4882-b2cc-16c2329e767b",
   "metadata": {},
   "outputs": [],
   "source": [
    "CREATE TABLE person(\n",
    "    fisrt_name VARCHAR(20) DEFAULT  NOT NULL,\n",
    "    second_name VARCHAR(20),\n",
    "    lase_name VARCHAR(20),\n",
    "    pid INT PRIMARY KEY,\n",
    "    DOB DATE,\n",
    "    age INT,\n",
    "    CHECK(age<=100)\n",
    "    gender ENUM(\"MALE\",\"FEMALE\",\"OTHER\") NOT NULL,\n",
    "    martial_statud ENUM(\"MARRIED\",\"NOT MARRIED\") NOT NULL\n",
    "    );"
   ]
  },
  {
   "cell_type": "code",
   "execution_count": null,
   "id": "b7365093-a75f-4e39-8481-f71081356d8c",
   "metadata": {},
   "outputs": [],
   "source": []
  }
 ],
 "metadata": {
  "kernelspec": {
   "display_name": "Python 3 (ipykernel)",
   "language": "python",
   "name": "python3"
  },
  "language_info": {
   "codemirror_mode": {
    "name": "ipython",
    "version": 3
   },
   "file_extension": ".py",
   "mimetype": "text/x-python",
   "name": "python",
   "nbconvert_exporter": "python",
   "pygments_lexer": "ipython3",
   "version": "3.12.7"
  }
 },
 "nbformat": 4,
 "nbformat_minor": 5
}
