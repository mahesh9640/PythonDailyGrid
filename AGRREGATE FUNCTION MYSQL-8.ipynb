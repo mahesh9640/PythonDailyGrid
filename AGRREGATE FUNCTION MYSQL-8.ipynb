{
 "cells": [
  {
   "cell_type": "code",
   "execution_count": null,
   "id": "dc927a02-61d9-44a8-adc7-c551bd727b04",
   "metadata": {},
   "outputs": [],
   "source": [
    "--->There are few aggregate functions with the group of clause.\n",
    "1.count(*)\n",
    "2.sum()\n",
    "3.avg()\n",
    "4.min\n",
    "5.max()"
   ]
  },
  {
   "cell_type": "raw",
   "id": "0ac0d3fc-833d-4a63-be97-7a62a75fa5f0",
   "metadata": {},
   "source": [
    "1.Count:\n",
    "--->It will count the number of records based on the condition\n",
    "--->Syntax:\n",
    "            SELECT COUNT(*) FROM table_name;\n",
    "---> * : wildca rd* it will give all the records present in the table.\n",
    "--->count(*): it will give the total no.of records in the table.\n",
    "#DISTINCT:\n",
    "\n",
    "---> It is a constriant it is used to access all the records in the table.\n",
    "\n",
    "--->Syntax:\n",
    "\n",
    "SELECT COUNT(DISTINCT(column_name)) FROM table_name;\n",
    "\n",
    "Q.Total no of students whose joined from feb;\n",
    "        --->SELECT COUNT(joining_date) FROM course WHERE joining date like \"%-02-%\";\n",
    "\n",
    "\n"
   ]
  },
  {
   "cell_type": "raw",
   "id": "f911d6ff-dc4d-47e8-b7fb-5f5955fece71",
   "metadata": {},
   "source": [
    "create table sales(\n",
    "    id int primary key,\n",
    "    product_id varchar(100)\n",
    "    sales_date date,\n",
    "    quantity_sold int,\n",
    "    price decimal,\n",
    "    region varchar(50)\n",
    "    );\n",
    "\n",
    "insert sales(id,product_id,product_name,sales_date,quantity_solid,price,region) values \n",
    "(1,01,\"Monitor\",\"2-01-2025\",5,1000.00,\"ammerpet\"),\n",
    "(2,02,\"cpu\",\"3-01-2025\",2,1100.00,\"s r nagar\"),\n",
    "(3,03,\"mouse\",\"4-01-2025\",1,10000.00,\"ashok nagar\"),\n",
    "(4,04,\"keyboard\",\"5-01-2025\",7,1200.00,\"kphb\"),\n",
    "(5,05,\"pendrive\",\"6-01-2025\",8,1500.00,\"erragada\"),\n",
    "(6,06,\"usb plug\",\"7-01-2025\",9,1200.00,\"kukatpally\");"
   ]
  },
  {
   "cell_type": "code",
   "execution_count": null,
   "id": "1d9b5d3c-8a7b-4a5d-8f25-8b1885c810a6",
   "metadata": {},
   "outputs": [],
   "source": [
    "2.sum(): it will return the sum\n",
    "3.avg(): it will return the average\n",
    "4.max(): \n",
    "5.min():"
   ]
  }
 ],
 "metadata": {
  "kernelspec": {
   "display_name": "Python 3 (ipykernel)",
   "language": "python",
   "name": "python3"
  },
  "language_info": {
   "codemirror_mode": {
    "name": "ipython",
    "version": 3
   },
   "file_extension": ".py",
   "mimetype": "text/x-python",
   "name": "python",
   "nbconvert_exporter": "python",
   "pygments_lexer": "ipython3",
   "version": "3.12.7"
  }
 },
 "nbformat": 4,
 "nbformat_minor": 5
}
